{
  "nbformat": 4,
  "nbformat_minor": 0,
  "metadata": {
    "colab": {
      "provenance": []
    },
    "kernelspec": {
      "name": "python3",
      "display_name": "Python 3"
    },
    "language_info": {
      "name": "python"
    }
  },
  "cells": [
    {
      "cell_type": "markdown",
      "source": [
        "### Importação dos dados\n",
        "\n"
      ],
      "metadata": {
        "id": "RhEdWd9YUR6H"
      }
    },
    {
      "cell_type": "code",
      "execution_count": 2,
      "metadata": {
        "colab": {
          "base_uri": "https://localhost:8080/",
          "height": 293
        },
        "id": "T3EvaeQ_INIL",
        "outputId": "b09890ab-f141-4571-f21f-f5182c7a19d6"
      },
      "outputs": [
        {
          "output_type": "execute_result",
          "data": {
            "text/plain": [
              "                 Produto Categoria do Produto    Preço      Frete  \\\n",
              "0     Assistente virtual          eletronicos   219.08   9.249790   \n",
              "1         Mesa de jantar               moveis   256.35  11.234305   \n",
              "2      Jogo de tabuleiro           brinquedos   279.51  21.262681   \n",
              "3            Micro-ondas     eletrodomesticos  1009.99  54.667344   \n",
              "4  Cadeira de escritório               moveis   446.99  26.964689   \n",
              "\n",
              "  Data da Compra        Vendedor Local da compra  Avaliação da compra  \\\n",
              "0     16/01/2021     Pedro Gomes              SP                    4   \n",
              "1     18/05/2022  Beatriz Moraes              RJ                    1   \n",
              "2     15/03/2021      João Souza              DF                    1   \n",
              "3     03/05/2022      João Souza              RS                    4   \n",
              "4     07/11/2020   Larissa Alves              MG                    5   \n",
              "\n",
              "  Tipo de pagamento  Quantidade de parcelas    lat    lon  \n",
              "0    cartao_credito                       8 -22.19 -48.79  \n",
              "1    cartao_credito                       4 -22.25 -42.66  \n",
              "2    cartao_credito                       1 -15.83 -47.86  \n",
              "3            boleto                       1 -30.17 -53.50  \n",
              "4            boleto                       1 -18.10 -44.38  "
            ],
            "text/html": [
              "\n",
              "  <div id=\"df-92e54fe0-26c4-451a-8428-4941f94e8d4a\" class=\"colab-df-container\">\n",
              "    <div>\n",
              "<style scoped>\n",
              "    .dataframe tbody tr th:only-of-type {\n",
              "        vertical-align: middle;\n",
              "    }\n",
              "\n",
              "    .dataframe tbody tr th {\n",
              "        vertical-align: top;\n",
              "    }\n",
              "\n",
              "    .dataframe thead th {\n",
              "        text-align: right;\n",
              "    }\n",
              "</style>\n",
              "<table border=\"1\" class=\"dataframe\">\n",
              "  <thead>\n",
              "    <tr style=\"text-align: right;\">\n",
              "      <th></th>\n",
              "      <th>Produto</th>\n",
              "      <th>Categoria do Produto</th>\n",
              "      <th>Preço</th>\n",
              "      <th>Frete</th>\n",
              "      <th>Data da Compra</th>\n",
              "      <th>Vendedor</th>\n",
              "      <th>Local da compra</th>\n",
              "      <th>Avaliação da compra</th>\n",
              "      <th>Tipo de pagamento</th>\n",
              "      <th>Quantidade de parcelas</th>\n",
              "      <th>lat</th>\n",
              "      <th>lon</th>\n",
              "    </tr>\n",
              "  </thead>\n",
              "  <tbody>\n",
              "    <tr>\n",
              "      <th>0</th>\n",
              "      <td>Assistente virtual</td>\n",
              "      <td>eletronicos</td>\n",
              "      <td>219.08</td>\n",
              "      <td>9.249790</td>\n",
              "      <td>16/01/2021</td>\n",
              "      <td>Pedro Gomes</td>\n",
              "      <td>SP</td>\n",
              "      <td>4</td>\n",
              "      <td>cartao_credito</td>\n",
              "      <td>8</td>\n",
              "      <td>-22.19</td>\n",
              "      <td>-48.79</td>\n",
              "    </tr>\n",
              "    <tr>\n",
              "      <th>1</th>\n",
              "      <td>Mesa de jantar</td>\n",
              "      <td>moveis</td>\n",
              "      <td>256.35</td>\n",
              "      <td>11.234305</td>\n",
              "      <td>18/05/2022</td>\n",
              "      <td>Beatriz Moraes</td>\n",
              "      <td>RJ</td>\n",
              "      <td>1</td>\n",
              "      <td>cartao_credito</td>\n",
              "      <td>4</td>\n",
              "      <td>-22.25</td>\n",
              "      <td>-42.66</td>\n",
              "    </tr>\n",
              "    <tr>\n",
              "      <th>2</th>\n",
              "      <td>Jogo de tabuleiro</td>\n",
              "      <td>brinquedos</td>\n",
              "      <td>279.51</td>\n",
              "      <td>21.262681</td>\n",
              "      <td>15/03/2021</td>\n",
              "      <td>João Souza</td>\n",
              "      <td>DF</td>\n",
              "      <td>1</td>\n",
              "      <td>cartao_credito</td>\n",
              "      <td>1</td>\n",
              "      <td>-15.83</td>\n",
              "      <td>-47.86</td>\n",
              "    </tr>\n",
              "    <tr>\n",
              "      <th>3</th>\n",
              "      <td>Micro-ondas</td>\n",
              "      <td>eletrodomesticos</td>\n",
              "      <td>1009.99</td>\n",
              "      <td>54.667344</td>\n",
              "      <td>03/05/2022</td>\n",
              "      <td>João Souza</td>\n",
              "      <td>RS</td>\n",
              "      <td>4</td>\n",
              "      <td>boleto</td>\n",
              "      <td>1</td>\n",
              "      <td>-30.17</td>\n",
              "      <td>-53.50</td>\n",
              "    </tr>\n",
              "    <tr>\n",
              "      <th>4</th>\n",
              "      <td>Cadeira de escritório</td>\n",
              "      <td>moveis</td>\n",
              "      <td>446.99</td>\n",
              "      <td>26.964689</td>\n",
              "      <td>07/11/2020</td>\n",
              "      <td>Larissa Alves</td>\n",
              "      <td>MG</td>\n",
              "      <td>5</td>\n",
              "      <td>boleto</td>\n",
              "      <td>1</td>\n",
              "      <td>-18.10</td>\n",
              "      <td>-44.38</td>\n",
              "    </tr>\n",
              "  </tbody>\n",
              "</table>\n",
              "</div>\n",
              "    <div class=\"colab-df-buttons\">\n",
              "\n",
              "  <div class=\"colab-df-container\">\n",
              "    <button class=\"colab-df-convert\" onclick=\"convertToInteractive('df-92e54fe0-26c4-451a-8428-4941f94e8d4a')\"\n",
              "            title=\"Convert this dataframe to an interactive table.\"\n",
              "            style=\"display:none;\">\n",
              "\n",
              "  <svg xmlns=\"http://www.w3.org/2000/svg\" height=\"24px\" viewBox=\"0 -960 960 960\">\n",
              "    <path d=\"M120-120v-720h720v720H120Zm60-500h600v-160H180v160Zm220 220h160v-160H400v160Zm0 220h160v-160H400v160ZM180-400h160v-160H180v160Zm440 0h160v-160H620v160ZM180-180h160v-160H180v160Zm440 0h160v-160H620v160Z\"/>\n",
              "  </svg>\n",
              "    </button>\n",
              "\n",
              "  <style>\n",
              "    .colab-df-container {\n",
              "      display:flex;\n",
              "      gap: 12px;\n",
              "    }\n",
              "\n",
              "    .colab-df-convert {\n",
              "      background-color: #E8F0FE;\n",
              "      border: none;\n",
              "      border-radius: 50%;\n",
              "      cursor: pointer;\n",
              "      display: none;\n",
              "      fill: #1967D2;\n",
              "      height: 32px;\n",
              "      padding: 0 0 0 0;\n",
              "      width: 32px;\n",
              "    }\n",
              "\n",
              "    .colab-df-convert:hover {\n",
              "      background-color: #E2EBFA;\n",
              "      box-shadow: 0px 1px 2px rgba(60, 64, 67, 0.3), 0px 1px 3px 1px rgba(60, 64, 67, 0.15);\n",
              "      fill: #174EA6;\n",
              "    }\n",
              "\n",
              "    .colab-df-buttons div {\n",
              "      margin-bottom: 4px;\n",
              "    }\n",
              "\n",
              "    [theme=dark] .colab-df-convert {\n",
              "      background-color: #3B4455;\n",
              "      fill: #D2E3FC;\n",
              "    }\n",
              "\n",
              "    [theme=dark] .colab-df-convert:hover {\n",
              "      background-color: #434B5C;\n",
              "      box-shadow: 0px 1px 3px 1px rgba(0, 0, 0, 0.15);\n",
              "      filter: drop-shadow(0px 1px 2px rgba(0, 0, 0, 0.3));\n",
              "      fill: #FFFFFF;\n",
              "    }\n",
              "  </style>\n",
              "\n",
              "    <script>\n",
              "      const buttonEl =\n",
              "        document.querySelector('#df-92e54fe0-26c4-451a-8428-4941f94e8d4a button.colab-df-convert');\n",
              "      buttonEl.style.display =\n",
              "        google.colab.kernel.accessAllowed ? 'block' : 'none';\n",
              "\n",
              "      async function convertToInteractive(key) {\n",
              "        const element = document.querySelector('#df-92e54fe0-26c4-451a-8428-4941f94e8d4a');\n",
              "        const dataTable =\n",
              "          await google.colab.kernel.invokeFunction('convertToInteractive',\n",
              "                                                    [key], {});\n",
              "        if (!dataTable) return;\n",
              "\n",
              "        const docLinkHtml = 'Like what you see? Visit the ' +\n",
              "          '<a target=\"_blank\" href=https://colab.research.google.com/notebooks/data_table.ipynb>data table notebook</a>'\n",
              "          + ' to learn more about interactive tables.';\n",
              "        element.innerHTML = '';\n",
              "        dataTable['output_type'] = 'display_data';\n",
              "        await google.colab.output.renderOutput(dataTable, element);\n",
              "        const docLink = document.createElement('div');\n",
              "        docLink.innerHTML = docLinkHtml;\n",
              "        element.appendChild(docLink);\n",
              "      }\n",
              "    </script>\n",
              "  </div>\n",
              "\n",
              "\n",
              "    <div id=\"df-7f9ebf86-fabf-41ef-ae95-cda340acc835\">\n",
              "      <button class=\"colab-df-quickchart\" onclick=\"quickchart('df-7f9ebf86-fabf-41ef-ae95-cda340acc835')\"\n",
              "                title=\"Suggest charts\"\n",
              "                style=\"display:none;\">\n",
              "\n",
              "<svg xmlns=\"http://www.w3.org/2000/svg\" height=\"24px\"viewBox=\"0 0 24 24\"\n",
              "     width=\"24px\">\n",
              "    <g>\n",
              "        <path d=\"M19 3H5c-1.1 0-2 .9-2 2v14c0 1.1.9 2 2 2h14c1.1 0 2-.9 2-2V5c0-1.1-.9-2-2-2zM9 17H7v-7h2v7zm4 0h-2V7h2v10zm4 0h-2v-4h2v4z\"/>\n",
              "    </g>\n",
              "</svg>\n",
              "      </button>\n",
              "\n",
              "<style>\n",
              "  .colab-df-quickchart {\n",
              "      --bg-color: #E8F0FE;\n",
              "      --fill-color: #1967D2;\n",
              "      --hover-bg-color: #E2EBFA;\n",
              "      --hover-fill-color: #174EA6;\n",
              "      --disabled-fill-color: #AAA;\n",
              "      --disabled-bg-color: #DDD;\n",
              "  }\n",
              "\n",
              "  [theme=dark] .colab-df-quickchart {\n",
              "      --bg-color: #3B4455;\n",
              "      --fill-color: #D2E3FC;\n",
              "      --hover-bg-color: #434B5C;\n",
              "      --hover-fill-color: #FFFFFF;\n",
              "      --disabled-bg-color: #3B4455;\n",
              "      --disabled-fill-color: #666;\n",
              "  }\n",
              "\n",
              "  .colab-df-quickchart {\n",
              "    background-color: var(--bg-color);\n",
              "    border: none;\n",
              "    border-radius: 50%;\n",
              "    cursor: pointer;\n",
              "    display: none;\n",
              "    fill: var(--fill-color);\n",
              "    height: 32px;\n",
              "    padding: 0;\n",
              "    width: 32px;\n",
              "  }\n",
              "\n",
              "  .colab-df-quickchart:hover {\n",
              "    background-color: var(--hover-bg-color);\n",
              "    box-shadow: 0 1px 2px rgba(60, 64, 67, 0.3), 0 1px 3px 1px rgba(60, 64, 67, 0.15);\n",
              "    fill: var(--button-hover-fill-color);\n",
              "  }\n",
              "\n",
              "  .colab-df-quickchart-complete:disabled,\n",
              "  .colab-df-quickchart-complete:disabled:hover {\n",
              "    background-color: var(--disabled-bg-color);\n",
              "    fill: var(--disabled-fill-color);\n",
              "    box-shadow: none;\n",
              "  }\n",
              "\n",
              "  .colab-df-spinner {\n",
              "    border: 2px solid var(--fill-color);\n",
              "    border-color: transparent;\n",
              "    border-bottom-color: var(--fill-color);\n",
              "    animation:\n",
              "      spin 1s steps(1) infinite;\n",
              "  }\n",
              "\n",
              "  @keyframes spin {\n",
              "    0% {\n",
              "      border-color: transparent;\n",
              "      border-bottom-color: var(--fill-color);\n",
              "      border-left-color: var(--fill-color);\n",
              "    }\n",
              "    20% {\n",
              "      border-color: transparent;\n",
              "      border-left-color: var(--fill-color);\n",
              "      border-top-color: var(--fill-color);\n",
              "    }\n",
              "    30% {\n",
              "      border-color: transparent;\n",
              "      border-left-color: var(--fill-color);\n",
              "      border-top-color: var(--fill-color);\n",
              "      border-right-color: var(--fill-color);\n",
              "    }\n",
              "    40% {\n",
              "      border-color: transparent;\n",
              "      border-right-color: var(--fill-color);\n",
              "      border-top-color: var(--fill-color);\n",
              "    }\n",
              "    60% {\n",
              "      border-color: transparent;\n",
              "      border-right-color: var(--fill-color);\n",
              "    }\n",
              "    80% {\n",
              "      border-color: transparent;\n",
              "      border-right-color: var(--fill-color);\n",
              "      border-bottom-color: var(--fill-color);\n",
              "    }\n",
              "    90% {\n",
              "      border-color: transparent;\n",
              "      border-bottom-color: var(--fill-color);\n",
              "    }\n",
              "  }\n",
              "</style>\n",
              "\n",
              "      <script>\n",
              "        async function quickchart(key) {\n",
              "          const quickchartButtonEl =\n",
              "            document.querySelector('#' + key + ' button');\n",
              "          quickchartButtonEl.disabled = true;  // To prevent multiple clicks.\n",
              "          quickchartButtonEl.classList.add('colab-df-spinner');\n",
              "          try {\n",
              "            const charts = await google.colab.kernel.invokeFunction(\n",
              "                'suggestCharts', [key], {});\n",
              "          } catch (error) {\n",
              "            console.error('Error during call to suggestCharts:', error);\n",
              "          }\n",
              "          quickchartButtonEl.classList.remove('colab-df-spinner');\n",
              "          quickchartButtonEl.classList.add('colab-df-quickchart-complete');\n",
              "        }\n",
              "        (() => {\n",
              "          let quickchartButtonEl =\n",
              "            document.querySelector('#df-7f9ebf86-fabf-41ef-ae95-cda340acc835 button');\n",
              "          quickchartButtonEl.style.display =\n",
              "            google.colab.kernel.accessAllowed ? 'block' : 'none';\n",
              "        })();\n",
              "      </script>\n",
              "    </div>\n",
              "\n",
              "    </div>\n",
              "  </div>\n"
            ],
            "application/vnd.google.colaboratory.intrinsic+json": {
              "type": "dataframe",
              "variable_name": "loja",
              "summary": "{\n  \"name\": \"loja\",\n  \"rows\": 2359,\n  \"fields\": [\n    {\n      \"column\": \"Produto\",\n      \"properties\": {\n        \"dtype\": \"category\",\n        \"num_unique_values\": 51,\n        \"samples\": [\n          \"Viol\\u00e3o\",\n          \"Bola de basquete\",\n          \"Smartwatch\"\n        ],\n        \"semantic_type\": \"\",\n        \"description\": \"\"\n      }\n    },\n    {\n      \"column\": \"Categoria do Produto\",\n      \"properties\": {\n        \"dtype\": \"category\",\n        \"num_unique_values\": 8,\n        \"samples\": [\n          \"moveis\",\n          \"esporte e lazer\",\n          \"eletronicos\"\n        ],\n        \"semantic_type\": \"\",\n        \"description\": \"\"\n      }\n    },\n    {\n      \"column\": \"Pre\\u00e7o\",\n      \"properties\": {\n        \"dtype\": \"number\",\n        \"std\": 819.5827782539145,\n        \"min\": 10.07,\n        \"max\": 3969.38,\n        \"num_unique_values\": 2315,\n        \"samples\": [\n          446.11,\n          107.31,\n          65.86\n        ],\n        \"semantic_type\": \"\",\n        \"description\": \"\"\n      }\n    },\n    {\n      \"column\": \"Frete\",\n      \"properties\": {\n        \"dtype\": \"number\",\n        \"std\": 43.814183327408166,\n        \"min\": 0.0,\n        \"max\": 214.3770604781,\n        \"num_unique_values\": 2149,\n        \"samples\": [\n          83.815279607,\n          16.069664669,\n          14.0344876928\n        ],\n        \"semantic_type\": \"\",\n        \"description\": \"\"\n      }\n    },\n    {\n      \"column\": \"Data da Compra\",\n      \"properties\": {\n        \"dtype\": \"object\",\n        \"num_unique_values\": 1018,\n        \"samples\": [\n          \"15/09/2022\",\n          \"03/06/2020\",\n          \"06/11/2021\"\n        ],\n        \"semantic_type\": \"\",\n        \"description\": \"\"\n      }\n    },\n    {\n      \"column\": \"Vendedor\",\n      \"properties\": {\n        \"dtype\": \"category\",\n        \"num_unique_values\": 14,\n        \"samples\": [\n          \"Juliana Costa\",\n          \"Mariana Ferreira\",\n          \"Pedro Gomes\"\n        ],\n        \"semantic_type\": \"\",\n        \"description\": \"\"\n      }\n    },\n    {\n      \"column\": \"Local da compra\",\n      \"properties\": {\n        \"dtype\": \"category\",\n        \"num_unique_values\": 26,\n        \"samples\": [\n          \"TO\",\n          \"RN\",\n          \"SP\"\n        ],\n        \"semantic_type\": \"\",\n        \"description\": \"\"\n      }\n    },\n    {\n      \"column\": \"Avalia\\u00e7\\u00e3o da compra\",\n      \"properties\": {\n        \"dtype\": \"number\",\n        \"std\": 1,\n        \"min\": 1,\n        \"max\": 5,\n        \"num_unique_values\": 5,\n        \"samples\": [\n          1,\n          2,\n          5\n        ],\n        \"semantic_type\": \"\",\n        \"description\": \"\"\n      }\n    },\n    {\n      \"column\": \"Tipo de pagamento\",\n      \"properties\": {\n        \"dtype\": \"category\",\n        \"num_unique_values\": 4,\n        \"samples\": [\n          \"boleto\",\n          \"cartao_debito\",\n          \"cartao_credito\"\n        ],\n        \"semantic_type\": \"\",\n        \"description\": \"\"\n      }\n    },\n    {\n      \"column\": \"Quantidade de parcelas\",\n      \"properties\": {\n        \"dtype\": \"number\",\n        \"std\": 2,\n        \"min\": 1,\n        \"max\": 24,\n        \"num_unique_values\": 15,\n        \"samples\": [\n          7,\n          14,\n          8\n        ],\n        \"semantic_type\": \"\",\n        \"description\": \"\"\n      }\n    },\n    {\n      \"column\": \"lat\",\n      \"properties\": {\n        \"dtype\": \"number\",\n        \"std\": 5.372399916530833,\n        \"min\": -30.17,\n        \"max\": 1.41,\n        \"num_unique_values\": 26,\n        \"samples\": [\n          -9.46,\n          -5.81,\n          -22.19\n        ],\n        \"semantic_type\": \"\",\n        \"description\": \"\"\n      }\n    },\n    {\n      \"column\": \"lon\",\n      \"properties\": {\n        \"dtype\": \"number\",\n        \"std\": 4.183180020544179,\n        \"min\": -70.55,\n        \"max\": -36.59,\n        \"num_unique_values\": 26,\n        \"samples\": [\n          -48.26,\n          -36.59,\n          -48.79\n        ],\n        \"semantic_type\": \"\",\n        \"description\": \"\"\n      }\n    }\n  ]\n}"
            }
          },
          "metadata": {},
          "execution_count": 2
        }
      ],
      "source": [
        "import pandas as pd\n",
        "\n",
        "url = \"https://raw.githubusercontent.com/alura-es-cursos/challenge1-data-science/refs/heads/main/base-de-dados-challenge-1/loja_1.csv\"\n",
        "url2 = \"https://raw.githubusercontent.com/alura-es-cursos/challenge1-data-science/refs/heads/main/base-de-dados-challenge-1/loja_2.csv\"\n",
        "url3 = \"https://raw.githubusercontent.com/alura-es-cursos/challenge1-data-science/refs/heads/main/base-de-dados-challenge-1/loja_3.csv\"\n",
        "url4 = \"https://raw.githubusercontent.com/alura-es-cursos/challenge1-data-science/refs/heads/main/base-de-dados-challenge-1/loja_4.csv\"\n",
        "\n",
        "loja = pd.read_csv(url)\n",
        "loja2 = pd.read_csv(url2)\n",
        "loja3 = pd.read_csv(url3)\n",
        "loja4 = pd.read_csv(url4)\n",
        "\n",
        "loja.head()"
      ]
    },
    {
      "cell_type": "markdown",
      "source": [
        "#1. Análise do faturamento\n"
      ],
      "metadata": {
        "id": "X62IW3KFUIYm"
      }
    },
    {
      "cell_type": "code",
      "source": [
        "def faturamento(lista):\n",
        "  valores = round(sum(lista['Preço']),2)\n",
        "  return valores\n",
        "comparacao_faturamento = {'loja 1' : faturamento(loja), 'loja 2' : faturamento(loja2), 'loja 3' : faturamento(loja3), 'loja 4' : faturamento(loja4)}\n",
        "print(comparacao_faturamento)\n"
      ],
      "metadata": {
        "id": "xykobSftV64I",
        "colab": {
          "base_uri": "https://localhost:8080/"
        },
        "outputId": "987a824e-ef02-4708-f7d6-ea653cc68728"
      },
      "execution_count": 45,
      "outputs": [
        {
          "output_type": "stream",
          "name": "stdout",
          "text": [
            "{'loja 1': 1534509.12, 'loja 2': 1488459.06, 'loja 3': 1464025.03, 'loja 4': 1384497.58}\n"
          ]
        }
      ]
    },
    {
      "cell_type": "code",
      "source": [
        "ordem_fatu = list(comparacao_faturamento.items())\n",
        "ordem_fatu = sorted(ordem_fatu, key = lambda x : x[1], reverse = True)\n",
        "soma_total = []\n",
        "for i in range(len(ordem_fatu)):\n",
        "  print(f'A {ordem_fatu[i][0]} faturou {ordem_fatu[i][1]} reais, ficando na {i+1}ª posição no quesito faturamento.')\n",
        "  soma_total.append(ordem_fatu[i][1])\n",
        "soma_tot=sum(soma_total)\n",
        "soma_tot"
      ],
      "metadata": {
        "id": "KDyr8E71V3m-",
        "colab": {
          "base_uri": "https://localhost:8080/"
        },
        "outputId": "9f744f9a-88cb-4e30-d733-e1df9706b5e8"
      },
      "execution_count": 107,
      "outputs": [
        {
          "output_type": "stream",
          "name": "stdout",
          "text": [
            "A loja 1 faturou 1534509.12 reais, ficando na 1ª posição no quesito faturamento.\n",
            "A loja 2 faturou 1488459.06 reais, ficando na 2ª posição no quesito faturamento.\n",
            "A loja 3 faturou 1464025.03 reais, ficando na 3ª posição no quesito faturamento.\n",
            "A loja 4 faturou 1384497.58 reais, ficando na 4ª posição no quesito faturamento.\n"
          ]
        },
        {
          "output_type": "execute_result",
          "data": {
            "text/plain": [
              "5871490.79"
            ]
          },
          "metadata": {},
          "execution_count": 107
        }
      ]
    },
    {
      "cell_type": "code",
      "source": [
        "def total_nvendas(lista):\n",
        "  total_vendas = len(list(lista['Preço']))\n",
        "  return total_vendas\n",
        "total_vendaspl = [total_nvendas(loja),total_nvendas(loja2),total_nvendas(loja3),total_nvendas(loja4)]\n",
        "total_vendaspl"
      ],
      "metadata": {
        "colab": {
          "base_uri": "https://localhost:8080/"
        },
        "id": "XkZ9ajfOQA5s",
        "outputId": "9c3854a1-3eb7-4879-885a-8a291f76cffc"
      },
      "execution_count": 105,
      "outputs": [
        {
          "output_type": "execute_result",
          "data": {
            "text/plain": [
              "[2359, 2359, 2359, 2358]"
            ]
          },
          "metadata": {},
          "execution_count": 105
        }
      ]
    },
    {
      "cell_type": "markdown",
      "source": [
        "# 2. Vendas por Categoria\n"
      ],
      "metadata": {
        "id": "2V_vcAPzWZmR"
      }
    },
    {
      "cell_type": "code",
      "source": [
        "def vendas_categoria(lista):\n",
        "  categorias = list(set(lista['Categoria do Produto']))\n",
        "  lista_vendasc = []\n",
        "  for i in categorias:\n",
        "    temp = list(lista['Categoria do Produto']).count(i)\n",
        "    lista_vendasc.append((i, temp))\n",
        "  lista_vendasc = sorted(lista_vendasc, key = lambda x: x[1], reverse = True)\n",
        "  return lista_vendasc"
      ],
      "metadata": {
        "id": "B0j8fwgmylQY"
      },
      "execution_count": 34,
      "outputs": []
    },
    {
      "cell_type": "code",
      "source": [
        "lista_vendascategoria = {'loja 1' : vendas_categoria(loja), 'loja 2' : vendas_categoria(loja2), 'loja 3' : vendas_categoria(loja3), 'loja 4' : vendas_categoria(loja4)}\n",
        "lista_vendascategoria"
      ],
      "metadata": {
        "id": "A34YupIuYhfF",
        "colab": {
          "base_uri": "https://localhost:8080/"
        },
        "outputId": "fe1b547d-7b3a-4296-84ed-00a587385062"
      },
      "execution_count": 47,
      "outputs": [
        {
          "output_type": "execute_result",
          "data": {
            "text/plain": [
              "{'loja 1': [('moveis', 465),\n",
              "  ('eletronicos', 448),\n",
              "  ('brinquedos', 324),\n",
              "  ('eletrodomesticos', 312),\n",
              "  ('esporte e lazer', 284),\n",
              "  ('instrumentos musicais', 182),\n",
              "  ('livros', 173),\n",
              "  ('utilidades domesticas', 171)],\n",
              " 'loja 2': [('moveis', 442),\n",
              "  ('eletronicos', 422),\n",
              "  ('brinquedos', 313),\n",
              "  ('eletrodomesticos', 305),\n",
              "  ('esporte e lazer', 275),\n",
              "  ('instrumentos musicais', 224),\n",
              "  ('livros', 197),\n",
              "  ('utilidades domesticas', 181)],\n",
              " 'loja 3': [('moveis', 499),\n",
              "  ('eletronicos', 451),\n",
              "  ('brinquedos', 315),\n",
              "  ('eletrodomesticos', 278),\n",
              "  ('esporte e lazer', 277),\n",
              "  ('livros', 185),\n",
              "  ('instrumentos musicais', 177),\n",
              "  ('utilidades domesticas', 177)],\n",
              " 'loja 4': [('moveis', 480),\n",
              "  ('eletronicos', 451),\n",
              "  ('brinquedos', 338),\n",
              "  ('esporte e lazer', 277),\n",
              "  ('eletrodomesticos', 254),\n",
              "  ('utilidades domesticas', 201),\n",
              "  ('livros', 187),\n",
              "  ('instrumentos musicais', 170)]}"
            ]
          },
          "metadata": {},
          "execution_count": 47
        }
      ]
    },
    {
      "cell_type": "code",
      "source": [
        "m = list(lista_vendascategoria.values())\n",
        "melhores = [m[i][0] for i in range(len(m))]\n",
        "for i in range(len(melhores)):\n",
        "  print(f'A categoria mais vendidas da loja {i+1} é {melhores[i][0]}, com {melhores[i][1]} vendas.')"
      ],
      "metadata": {
        "id": "yZR6cOjXYSk1",
        "colab": {
          "base_uri": "https://localhost:8080/"
        },
        "outputId": "5111bc3b-5992-49d1-b5df-be97c0baa6c7"
      },
      "execution_count": 51,
      "outputs": [
        {
          "output_type": "stream",
          "name": "stdout",
          "text": [
            "A categoria mais vendidas da loja 1 é moveis, com 465 vendas.\n",
            "A categoria mais vendidas da loja 2 é moveis, com 442 vendas.\n",
            "A categoria mais vendidas da loja 3 é moveis, com 499 vendas.\n",
            "A categoria mais vendidas da loja 4 é moveis, com 480 vendas.\n"
          ]
        }
      ]
    },
    {
      "cell_type": "markdown",
      "source": [
        "# 3. Média de Avaliação das Lojas"
      ],
      "metadata": {
        "id": "Rq6tU_xSY3jk"
      }
    },
    {
      "cell_type": "code",
      "source": [
        "def media_avaliacao(lista):\n",
        "  lista_temp = list(lista['Avaliação da compra'])\n",
        "  media = round(sum(lista_temp)/len(lista_temp),2)\n",
        "  return media"
      ],
      "metadata": {
        "id": "bh3jjjJwY5MU"
      },
      "execution_count": 59,
      "outputs": []
    },
    {
      "cell_type": "code",
      "source": [
        "lista_media = [('loja 1', media_avaliacao(loja)),('loja 2', media_avaliacao(loja2)),('loja 3', media_avaliacao(loja3)),('loja 4', media_avaliacao(loja4))]\n",
        "lista_media\n",
        "for i in range(len(lista_media)):\n",
        "  print(f'A média das avaliações da {lista_media[i][0]} é de {lista_media[i][1]} do máximo de 5 estrelas.')"
      ],
      "metadata": {
        "id": "I0KkjPoTY88F",
        "colab": {
          "base_uri": "https://localhost:8080/"
        },
        "outputId": "cb37c53a-17b8-4153-fc7c-f9218fb17f9a"
      },
      "execution_count": 71,
      "outputs": [
        {
          "output_type": "stream",
          "name": "stdout",
          "text": [
            "A média das avaliações da loja 1 é de 3.98 do máximo de 5 estrelas.\n",
            "A média das avaliações da loja 2 é de 4.04 do máximo de 5 estrelas.\n",
            "A média das avaliações da loja 3 é de 4.05 do máximo de 5 estrelas.\n",
            "A média das avaliações da loja 4 é de 4.0 do máximo de 5 estrelas.\n"
          ]
        }
      ]
    },
    {
      "cell_type": "markdown",
      "source": [
        "# 4. Produtos Mais e Menos Vendidos"
      ],
      "metadata": {
        "id": "DmNp1KPBZCm-"
      }
    },
    {
      "cell_type": "code",
      "source": [
        "def mais_menos_v(lista):\n",
        "  produtos = list(set(lista['Produto']))\n",
        "  lista_maxmin = []\n",
        "  for i in produtos:\n",
        "    temp = list(lista['Produto']).count(i)\n",
        "    lista_maxmin.append((i, temp))\n",
        "  lista_maxmin = sorted(lista_maxmin, key = lambda x: x[1], reverse = True)\n",
        "  lista_f = [lista_maxmin[0], lista_maxmin[len(lista_maxmin)-1]]\n",
        "  return lista_f"
      ],
      "metadata": {
        "id": "qoyjqijQZHfF"
      },
      "execution_count": 67,
      "outputs": []
    },
    {
      "cell_type": "code",
      "source": [
        "lista_mprodutos = [mais_menos_v(loja), mais_menos_v(loja2), mais_menos_v(loja3), mais_menos_v(loja4)]\n",
        "print(lista_mprodutos)\n",
        "for i in range(len(lista_mprodutos)):\n",
        "  print(f'O produto mais vendido da loja {i+1} é {lista_mprodutos[i][0][0]} com {lista_mprodutos[i][0][1]} vendas, já o menos vendido é o {lista_mprodutos[i][1][0]} com {lista_mprodutos[i][1][1]} vendas.')"
      ],
      "metadata": {
        "id": "0Sw3sd4IZIGW",
        "colab": {
          "base_uri": "https://localhost:8080/"
        },
        "outputId": "79c3862f-2929-4d3f-c2ba-dd7b972643b0"
      },
      "execution_count": 77,
      "outputs": [
        {
          "output_type": "stream",
          "name": "stdout",
          "text": [
            "[[('Guarda roupas', 60), ('Celular ABXY', 33)], [('Iniciando em programação', 65), ('Jogo de tabuleiro', 32)], [('Kit banquetas', 57), ('Blocos de montar', 35)], [('Cama box', 62), ('Guitarra', 33)]]\n",
            "O produto mais vendido da loja 1 é Guarda roupas com 60 vendas, já o menos vendido é o Celular ABXY com 33 vendas.\n",
            "O produto mais vendido da loja 2 é Iniciando em programação com 65 vendas, já o menos vendido é o Jogo de tabuleiro com 32 vendas.\n",
            "O produto mais vendido da loja 3 é Kit banquetas com 57 vendas, já o menos vendido é o Blocos de montar com 35 vendas.\n",
            "O produto mais vendido da loja 4 é Cama box com 62 vendas, já o menos vendido é o Guitarra com 33 vendas.\n"
          ]
        }
      ]
    },
    {
      "cell_type": "markdown",
      "source": [
        "# 5. Frete Médio por Loja\n"
      ],
      "metadata": {
        "id": "Fl0cGi3bZKqU"
      }
    },
    {
      "cell_type": "code",
      "source": [
        "def media_frete(lista):\n",
        "  lista_temp = list(lista['Frete'])\n",
        "  media = round(sum(lista_temp)/len(lista_temp),2)\n",
        "  return media"
      ],
      "metadata": {
        "id": "S2JeaCykZNy9"
      },
      "execution_count": 78,
      "outputs": []
    },
    {
      "cell_type": "code",
      "source": [
        "lista_mediaf = [('loja 1', media_frete(loja)),('loja 2', media_frete(loja2)),('loja 3', media_frete(loja3)),('loja 4', media_frete(loja4))]\n",
        "for i in range(len(lista_media)):\n",
        "  print(f'A média de frete da {lista_mediaf[i][0]} é de {lista_mediaf[i][1]} reais.')"
      ],
      "metadata": {
        "id": "0tSdCie9ZQlt",
        "colab": {
          "base_uri": "https://localhost:8080/"
        },
        "outputId": "558ab199-5f81-46be-fe3f-282c4e2716e3"
      },
      "execution_count": 79,
      "outputs": [
        {
          "output_type": "stream",
          "name": "stdout",
          "text": [
            "A média de frete da loja 1 é de 34.69 reais.\n",
            "A média de frete da loja 2 é de 33.62 reais.\n",
            "A média de frete da loja 3 é de 33.07 reais.\n",
            "A média de frete da loja 4 é de 31.28 reais.\n"
          ]
        }
      ]
    },
    {
      "cell_type": "markdown",
      "source": [
        "# 6. Gráficos"
      ],
      "metadata": {
        "id": "ri_b3x9lGEsU"
      }
    },
    {
      "cell_type": "markdown",
      "source": [],
      "metadata": {
        "id": "r1rQapaYGEK6"
      }
    },
    {
      "cell_type": "code",
      "source": [
        "pip install matplotlib"
      ],
      "metadata": {
        "colab": {
          "base_uri": "https://localhost:8080/"
        },
        "id": "kX-RhM_SHrLY",
        "outputId": "f4dd1d93-7c23-4adf-fd3f-dd22358f2962"
      },
      "execution_count": 80,
      "outputs": [
        {
          "output_type": "stream",
          "name": "stdout",
          "text": [
            "Requirement already satisfied: matplotlib in /usr/local/lib/python3.11/dist-packages (3.10.0)\n",
            "Requirement already satisfied: contourpy>=1.0.1 in /usr/local/lib/python3.11/dist-packages (from matplotlib) (1.3.2)\n",
            "Requirement already satisfied: cycler>=0.10 in /usr/local/lib/python3.11/dist-packages (from matplotlib) (0.12.1)\n",
            "Requirement already satisfied: fonttools>=4.22.0 in /usr/local/lib/python3.11/dist-packages (from matplotlib) (4.59.0)\n",
            "Requirement already satisfied: kiwisolver>=1.3.1 in /usr/local/lib/python3.11/dist-packages (from matplotlib) (1.4.8)\n",
            "Requirement already satisfied: numpy>=1.23 in /usr/local/lib/python3.11/dist-packages (from matplotlib) (2.0.2)\n",
            "Requirement already satisfied: packaging>=20.0 in /usr/local/lib/python3.11/dist-packages (from matplotlib) (25.0)\n",
            "Requirement already satisfied: pillow>=8 in /usr/local/lib/python3.11/dist-packages (from matplotlib) (11.3.0)\n",
            "Requirement already satisfied: pyparsing>=2.3.1 in /usr/local/lib/python3.11/dist-packages (from matplotlib) (3.2.3)\n",
            "Requirement already satisfied: python-dateutil>=2.7 in /usr/local/lib/python3.11/dist-packages (from matplotlib) (2.9.0.post0)\n",
            "Requirement already satisfied: six>=1.5 in /usr/local/lib/python3.11/dist-packages (from python-dateutil>=2.7->matplotlib) (1.17.0)\n"
          ]
        }
      ]
    },
    {
      "cell_type": "code",
      "source": [
        "import matplotlib.pyplot as plt\n",
        "lista_lp = []\n",
        "lista_fp = []\n",
        "for i in range(len(ordem_fatu)):\n",
        "  lista_lp.append(ordem_fatu[i][0])\n",
        "  lista_fp.append(ordem_fatu[i][1])\n",
        "ftotal = sum(lista_fp)\n",
        "lista_fpf = []\n",
        "for i in lista_fp:\n",
        "  lista_fpf.append(i/ftotal)\n",
        "plt.pie(lista_fpf, labels = lista_lp, autopct = '%.1f%%', startangle = 90)\n",
        "plt.suptitle('Faturamento por loja', fontsize = 15)\n",
        "plt.title('Valor percentual do faturamento global', fontsize = 10)\n",
        "plt.axis('equal')\n",
        "plt.show()\n"
      ],
      "metadata": {
        "colab": {
          "base_uri": "https://localhost:8080/",
          "height": 454
        },
        "id": "ismApPUvH3Nz",
        "outputId": "e403fc6d-5d19-4c6a-9971-fb11d01b5a68"
      },
      "execution_count": 95,
      "outputs": [
        {
          "output_type": "display_data",
          "data": {
            "text/plain": [
              "<Figure size 640x480 with 1 Axes>"
            ],
            "image/png": "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\n"
          },
          "metadata": {}
        }
      ]
    },
    {
      "cell_type": "code",
      "source": [
        "import matplotlib.pyplot as plt\n",
        "lista_lp = []\n",
        "lista_fsf = []\n",
        "lista_ff=[]\n",
        "for i in range(len(ordem_fatu)):\n",
        "  lista_lp.append(ordem_fatu[i][0])\n",
        "  lista_fsf.append(ordem_fatu[i][1])\n",
        "  lista_ff.append(lista_mediaf[i][1])\n",
        "ftotal = sum(lista_fsf)\n",
        "fretotal = sum(lista_ff)\n",
        "lista_fpfsf = []\n",
        "for i in range(len(lista_fsf)):\n",
        "  lista_fpfsf.append((lista_fsf[i]-lista_ff[i])/(ftotal-fretotal))\n",
        "plt.pie(lista_fpfsf, labels = lista_lp, autopct = '%.1f%%', startangle = 90)\n",
        "plt.suptitle('Faturamento por loja descontando o frete', fontsize = 15)\n",
        "plt.title('Valor percentual do faturamento global', fontsize = 10)\n",
        "plt.axis('equal')\n",
        "plt.show()"
      ],
      "metadata": {
        "colab": {
          "base_uri": "https://localhost:8080/",
          "height": 454
        },
        "id": "cdRnZH4UUL0B",
        "outputId": "66a61f65-fcc5-4308-9b59-36cb6c46c952"
      },
      "execution_count": 110,
      "outputs": [
        {
          "output_type": "display_data",
          "data": {
            "text/plain": [
              "<Figure size 640x480 with 1 Axes>"
            ],
            "image/png": "iVBORw0KGgoAAAANSUhEUgAAAgMAAAG1CAYAAABkoPeiAAAAOnRFWHRTb2Z0d2FyZQBNYXRwbG90bGliIHZlcnNpb24zLjEwLjAsIGh0dHBzOi8vbWF0cGxvdGxpYi5vcmcvlHJYcgAAAAlwSFlzAAAPYQAAD2EBqD+naQAAbqpJREFUeJzt3Xd4FFXbBvB7e0vPhiSEQAgECL2XIBCaoQdBmnQRUCmioliwt1dRBP0AOyAqiAVBQVFpQui9BRIgBAjpvW22ne+PmJUlm0qyZ3fn+V1XLsjs7Mw9u7M7T86cOSNijDEQQgghRLDEvAMQQgghhC8qBgghhBCBo2KAEEIIETgqBgghhBCBo2KAEEIIETgqBgghhBCBo2KAEEIIETgqBgghhBCBo2KAEEIIETiHKgZEIlGlP5GRkbwjElJtr776KkQiEdatW3fPywoJCYFIJLr3ULV0/fp1+gw6mcjISIhEIly/fp13lGorLCzEwoULERwcDKlUCpFIhFdffZV3LEFwqGKgzPTp023+DBkypFbL27t3L0QiEWbMmFG3QYnFunXr6INLBIH29frz/PPP4+OPP4ZSqcT48eMxffp0dOzYsd7WJxKJEBISUm/LdyZS3gFsqYu/pAhxJbt27YLBYOAdg5B69csvv0ClUuHUqVNwc3PjHUdQHLIYIIRYa9asGe8IhNS7W7duoXHjxlQIcOCQpwmqsn//fsyfPx/t27eHt7c3VCoVWrVqheeeew45OTlW886YMQP9+/cHAKxfv96qD0JZM19VpxFmzJgBkUiEvXv3Wk0va2LS6/V4/fXX0apVKygUCowePRoAoNPp8OWXXyI6OhqhoaFQqVTw8vJC3759sWnTpirX9ffff6Nv375wd3dHgwYNMHv2bOTm5gIA0tLSMHfuXAQFBUGpVKJ79+7l8t3pyJEjGDduHAIDAyGXy9GoUSM88sgjuHHjRrl57zzXfe7cOYwaNQre3t7QaDTo168fDh48aDV/ZGQkZs6cCQB47bXXrF7ju1t5duzYgcGDB8Pb2xtKpRItW7a0+b5VpewcOmMMK1euROvWraFUKhEUFISFCxdWuLyioiK88cYbaNu2LVQqFTw9PSt9P+5cz8cff4wOHTpArVbfc9NlZmYmnnnmGYSFhUGpVMLHxwdDhgzBn3/+WWmOu23fvh0PP/wwwsPD4eHhAY1Ggw4dOuDtt99GSUlJjXPdvHkTU6dOhZ+fH9RqNbp06YJvvvmmyuf98ccfGD58OPz8/KBQKBAaGoqnnnoKmZmZ5ebV6/VYvXo1unXrBl9fX6jVaoSEhGDEiBE23weDwYBPPvkE9913H7y8vKBSqdC8eXPMnDkTJ06cKDd/Tfax+tjXGWPYuHEjJk6ciBYtWkCj0cDd3R3du3fH6tWrYTab7zlHGZPJhPfffx+tWrWCUqlEcHAwnnjiCeTl5dmcv8yhQ4cQHR1teb9CQkLw+OOP4/bt25U+z5aa7su2lPVvYIwhMTHR6nUtU9X3LVD6+X7nnXfQqVMnuLm5wc3NDT179sT69eut1ld2qgdAufXd3S+must0esyBAGDVidSjRw+mVCpZ9+7d2dixY9nw4cNZYGAgA8DatGnD8vPzLfN+/vnnLCoqigFgzZo1Y9OnT7f8bNmyhTHG2J49exgANn36dJvrmz59OgPA9uzZUy5vcHAwGzp0KNNoNGzYsGFs3Lhx7NFHH2WMMRYbG8sAsIYNG7L+/fuzCRMmsH79+jGZTMYAsFdeeaXCdS1cuJBJJBJ23333sQcffJA1atSIAWD9+vVj6enpLDQ0lDVp0oRNmDCB9ejRgwFgCoWCnT17ttwyV61axcRiMROLxaxHjx5s3LhxrH379gwA8/PzYxcvXrSa/5VXXmEA2Lx585harWbt2rVjEyZMYB06dGAAmFKpZOfOnbPM/84777DevXszAKxDhw5Wr/H+/fst87399tsMAJNKpWzgwIFswoQJlu1q0aIFS0lJqextt9KkSRNLRplMxgYPHszGjx/P/P39GQDWvn17lpuba/WcvLw81qVLF8t2P/jgg2zo0KFMoVBYXvOK1jNnzhwmk8nYoEGD2IQJE9gDDzxQZcay13Ht2rVW02/dusVCQ0MZANa4cWM2YcIENmDAACaRSBgAtnz58gpz3M3f3595eHiwiIgINn78eBYVFcW8vb0ZADZgwABmNBqrzFnm2rVrLCAggAFgoaGhbOLEiaxPnz5MJBKx+fPnW/a/uy1ZsoQBYHK5nPXu3Zs9+OCDLCwszPKZu/t9ffDBBxkA5u7uzoYNG2ZZj6enZ7nlFxQUsL59+zIATKPRsKioKMs+L5PJ2BNPPGE1f033sfrY14uLixkA5uvry/r06cMmTJjABg0axNRqdYXfMzXNUWbixIkMAFOr1WzkyJHsgQceYJ6enqxLly6sZ8+eDABLSEiwes6GDRss+1rv3r3ZxIkTWYsWLRgA5u/vz2JjY8utpyK12ZdteeeddyzffRqNxup1LVPV921qaqrley0gIIANGzaMDR06lHl6ejIAbP78+ZZl7d+/v8L1vfPOO5b5arJMZ+eUxcCOHTtYTk6O1TSdTsfmzJnDALDXXnvN6rGqDvb3UgwAYM2bN2e3bt0q97yMjAz2119/MbPZbDX92rVrLCQkhInF4nIf1LJ1icVi9ttvv1mm5+XlsbZt2zIArHXr1mzKlClMr9dbHl+6dCkDwKZNm2a1vEOHDjGJRMKCgoLY8ePHrR774osvGADWo0cPq+llX0wA2MqVK60eW7RoEQPApk6dajV97dq1FRY4jDF29OhRJhaLmZubGzt8+LBluk6nY+PGjWMA2NixY20+15ayg6OHh4fVduXn57MBAwYwAOUOFGUHtP79+7O8vDzL9NjYWNagQQMGgP36668216PVatn58+ernY+xiouBESNGMADsoYceYiUlJZbp+/fvZ2q1mkkkEnbq1CmbOe72yy+/sKKiIqtpeXl5lnWsX7++2nmHDBnCALCHH36YGQwGy/Rt27ZZvtzvPlhv3ryZAWBt27Zl8fHxlulms5m9/PLLDACbMGGCZfq1a9cYANakSROWkZFhtazi4mJ28OBBq2mzZs1iAFjfvn1ZWlqa1WMpKSlW+1Jt9rH62NcNBgPbsmWL1eeTMcbS0tJY165dGQC2b9++e86xadMmy0H4zu+R1NRUy3fF3cXAjRs3mEqlYhKJhG3dutUy3WQyWdbTtWtXm9tlS2325cqU7RsVPVbZ9+2wYcMsn3udTmeZnpKSYnndf//992qvr7bLdFYOWQxU9HP3gfNuRUVFTCqVss6dO1tNr+9i4IcffqjmFv7n888/ZwDYRx99ZHNdU6ZMKfeclStXWg6AWVlZVo/l5OQwkUhUbseOjo62eZArM2rUKAaAnTx50jKt7Iupd+/e5ebPyMiw+QGq6gty2rRpDAB7/vnnyz2WmprKVCoVE4vF7MaNGzaff7eyg+MLL7xQ7rELFy4wkUjE3NzcWHFxMWOs9C/MsnXY+svno48+YgDYoEGDbK5n2bJl1cp1J1vFwNWrVxkA5ubmxjIzM8s956mnnmIA2COPPGIzR3XFx8czAGzMmDHVmr8sl4eHR7lCmzHGJkyYYLMYKPvL1dZfrWazmXXs2JFJJBKWnp7OGGPsyJEjDAAbPXp0lZmSkpKYRCJhCoWCXb9+vcr5a7OP1ce+Xpm//vqLAWBPPfWU1fTa5ChrMfnqq6/KPef333+3+b1ZVqBNmjSp3HN0Oh1r2LAhA8AOHDhQ5bbUdl+uTHWKAVvft6dOnWIAWLdu3ZjJZCr3+MmTJxkANmrUqGqvr7bLdFYO2YFw+vTpNqff2akkKSkJv/76Ky5duoS8vDzLeTi5XI74+Hi75ARKz2ONHDmy0nkOHDiAvXv3IikpCTqdDowxJCcnA0CFWe+///5y00JDQwEAXbt2hbe3t9Vjnp6e8PHxsSwXAMxmM3bt2gW1Wo2oqCib6+nTpw+2bduGo0ePolOnTlVm8PX1Lbee6ti/fz8AYPLkyeUea9CgAe6//35s3boVMTExmDhxYrWXa2ve1q1bo0OHDjh9+jROnTqFXr164cSJEyguLkbXrl3RqlWrcs+ZOnUqFi5ciJiYGJjNZojF1t1pRo0aVe1MlTlw4AAAYMiQIfDx8bGZY/ny5ZbXqzri4+OxY8cOXLlyBYWFhTCbzWCMWR6raS5PT89yj0+aNAnff/+91bS0tDScOXMGYWFhaNu2bbnniEQi9O7dG6dPn8aJEycQFRWFVq1aQaPRYPv27Vi2bBkmT56Mhg0b2sy0d+9emEwmjBgxAk2aNKlyG+5lH6vLfb3M6dOn8eeffyIxMRFFRUVgjCE/Px9AzT73tnIYDAYcPnwYADBhwoRyzxkyZAi8vb2RnZ1tNb2y10ihUGDcuHFYuXIl9u/fj969e1e6ffWxL1elou/bsv4Jo0ePLvfZBWA533/06NFqr6s+lunIHLIYqOrSwuXLl+O5555ziEutGjRoAIVCYfOx3NxcjBkzBrt3767w+WVfDncLCgoqN62sGLL1WNnjd3bYysjIQEFBAYDSIqkyGRkZ5aY1atTI5rzu7u7IysqqdHl3K+uYVNE1vWXTk5KSarTcig4SISEhOH36tGW9Va3fy8sLnp6eyM3NRXZ2Nnx9fa0eb9y4cY1yVaQuXwfGGBYvXowPP/zQcvC/W0X7V0W5Kns971Y2mE18fHyVAyKV7V8eHh74/PPPMWfOHDz77LN49tln0aJFC/Tv3x9Tp061OgDdvHkTQPWvpLiX17Yu93W9Xo8ZM2Zg48aNFc5T0ftS3RyZmZnQ6/WWjp62NGnSpFwxUJf7X319pitT0fdt2b744osv4sUXX6zw+Tqdrtrrqo9lOjKHLAYqc/jwYTz99NPw9PTEypUrERkZiYCAAMsO0rBhw1pX8hWx1fu3jFKprPCxJUuWYPfu3ejXrx9ee+01tG3bFl5eXpBIJPjzzz8RFRVV4Ze4rUq0Oo/Zyu3m5oaxY8dWOm+bNm1qvZ66wHN0vepkqOx9tleGu33//fdYvnw5goOD8eGHH6JXr17w8/ODTCaDXq+HQqGocP+qC2X7V0BAQIUtT2XuLDImTZqEQYMGYevWrfjzzz+xb98+fPrpp/j000/x1FNP4YMPPqiXvJW9tnW5ry9fvhwbN25Eu3bt8N5776Fz587w9vaGTCZDXFwcWrZsWavPvT3U5eewPj7TFX0Oy/bF++67r84uw62PZToypysGtmzZAgB46623yp1OKC4uRkpKSo2XWfZXc9lf0Xcr+wulprZs2QKJRIJt27bBw8PD6rFr167Vapk1odVqoVQqIRaLsXbtWq4H3IYNGyIhIQGJiYlo3bp1ucfLqvCKWj0qkpiYiHbt2tmcXrbeO/8tm3633Nxc5OTkQKVSlTsFU5eqylGT16Hss7BmzRoMHz7c6rGa7l+BgYGV5rI1veyvWK1WW+OBwvz8/PDII4/gkUceAWMMO3fuxIQJE7B8+XI8/PDDaNOmDYKDgwEAV69erdYy62sfq6my92Xjxo3liuy6+tz7+vpCLpcjPT0dxcXFUKlU5eaxddlww4YNcfnyZSQmJtr8A6Amr1Fd7sv3qmxfHD16NJ5++mmHXaYjc7pxBsqavWw1p/3www82K+6yg73RaLS5zLIvwri4uHKPZWVl4eTJk7XO6uHhUa4QAIDNmzfXapk1IZVKERkZiby8POzatate11XVa9ynTx8AsNl0mp6ejp07d1rOMdeErdfx0qVLOH36NNzc3CzjAXTp0gUqlQonTpyweb627Fr63r171+tfZ/fddx+A0uvybV33Xpaj7PWqTGWfhZruX3fmsnWNuq3r/xs1aoRWrVrh4sWLNj871SUSiTBkyBBLQXPhwgUApdeeSyQS7Ny5s1oFeX3tY3eral+vy/elIjKZDD169KhwmX/++afN0xuVvUZ6vR4//PCD1XyVqct9+V4NHjwYwH+FWHXJZLIK38faLtNZOV0x0KJFCwDAl19+adVn4OLFi1iyZInN55RVsJcvX7b5eNOmTdG4cWOcO3cOW7dutUwvLCzEnDlzqhzAo7Ks2dnZ5Tpeffjhh9izZ0+tlllTL774IsRiMWbOnGlzUKKCggJ89dVXKC4uvqf1VPUaz5s3D2KxGB999BGOHz9uma7X67FgwQIUFxdjzJgxlr8Gq+vjjz/GqVOnLL8XFRVhwYIFYIxh5syZlr+YNBoNHn74YZjNZsybNw+FhYWW58TFxeHNN98EACxcuLBG66+p0NBQDB8+HPn5+XjiiSes9uFDhw5hzZo1kEgkmDdvXpXLKvssfPbZZ1ZF8P79+7Fs2bIa5WrWrBnuv/9+5OXl4emnn4bJZLI8tmPHDstB4m4vvfQSzGYzxo4di9OnT5d7PDMzE59//rnl91OnTuHnn3+GXq+3mi8rKwtHjhwBAMs+0LBhQ0ybNg06nQ7Tp08vN4BRWlqa5TlA/e1jd6tqXy97Xz755BOr6T/++CO+/vrre1r3nR577DEAwCuvvGLVCpCRkYFnnnnG5nNmzZoFlUqFTZs2Yfv27ZbpZrMZL7zwApKSktClS5dqFUx1uS/fqx49emDw4MGIiYnBvHnzbH5nnzlzBn/88YfVtIYNGyI1NdVmMVPbZTotPhcx2IZqjDOQkZFhGRiladOmbPz48WzQoEFMJpOxcePGVXgJVtnAEd26dWMzZsxgs2bNsrrO9ssvv2QAmEQiYf3792cjR45k/v7+LCwszHJ5nq1LCyu7RvWbb76xbFOfPn3YpEmTWOvWrZlYLGZPPvmkzcsZK7qMkbGqL4GsaNvXrFljuU68bdu2bMyYMZaBW8oG3MnOzrbMX9H18ZWtp7i42HKtfr9+/djMmTPZrFmzWExMjGWet956iwGlA8IMGjSITZw4kQUHBzMALCws7J4GHYqKimLjx4+37Btt2rQpd4ncnYMONWjQgI0bN44NGzaMKZVKBlQ+6FBtVDboUNOmTS37z8SJE9nAgQMt79EHH3xQrRyXL19mGo2GAaVjT9w5SNDixYur3D/vdvXqVcugTc2aNWMTJ05kffv2ZSKRiM2bN8/mpYWMMfbCCy8woHRsjM6dO7Nx48axBx98kHXq1IlJJBLm6elpmXfLli0MAPP09GQDBw5kkydPZsOHD2fu7u4MABs5cqTVsvPy8lhERAQDSgeHGTp0KJswYQLr2bMnk8vl5caSqOk+Vh/7+r59+yzvZZcuXdikSZMs16SXvS93v461ycEYs4yfoNFo2KhRo9iYMWOYl5cX69y5c4WDDn399ddMLBYzkUjE7rvvPjZp0iTWsmVLBtRu0KGa7suVqWyfrWp/Tk1NZZ06dWIAmJeXF4uMjGQPPfQQGz58uGUfuHt/WbBggeVYMnnyZDZr1iz23nvv3dMynZXTFQOMMXbz5k320EMPsaCgIKZUKll4eDj73//+x4xGY4Ufmvj4eDZ69Gjm6+vLxGKxzeuE165dy9q2bcvkcjnz9/dnjzzyCMvIyKh0nIGqvmy3b9/Oevbsydzd3ZmXlxcbNGgQ27t3b4UH9vooBhgrvWZ2+vTprEmTJkwulzMvLy/Wpk0b9vDDD7PffvvNamCk2n4xHTt2jA0ePJh5enoykUhkcxm//fYbGzhwIPP09GRyuZw1b96cPfvss+XGTahKWQaTycTef/991qpVK6ZQKFhgYCCbN29ehcsrKChgr732GmvdujVTKBTM3d2d3Xfffey7776r0bZWR2WvY0ZGBnv66adZs2bNLO/H/fffz3bu3FmjHLGxsWzkyJGsQYMGTK1Ws06dOrHPPvuMMVa9/fNu169fZw899BDz9fVlSqWSdezYka1bt44lJCRUWAwwVnoAHDduHGvYsCGTyWTM19eXtW/fns2fP99qgJ3k5GT25ptvsgEDBrBGjRpZPmu9e/dmX331VbmBehhjrKSkhK1cuZJ1796dubm5MZVKxZo1a8ZmzpzJTpw4UW7+muxj9bWvHzp0iA0YMIB5e3szd3d3FhERwX766acKX8fa5jAYDOzdd99lLVq0YHK5nDVs2JA9/vjjLCcnh/Xr189mMcAYYzExMWzkyJHM19eXyWQy1rhxY/bYY4/ZHMynKjXdlytzL8UAY6WF2kcffcQiIiIs739wcDDr168fW7ZsGbt586bV/AUFBWz+/PksODiYSaVSm+9NTZfprESM1WN3Y0LqSUhICBITE+u1t7wj8ff3R0FBgdXpDUIIqStO12eAEKG5ceMG0tPTBXF5EyGEDyoGCHFQN27cwMSJE9GjRw8wxmyOGkcIIXWBigFCHFRWVhY2b94MsViMJUuWCOJaZ0IIH9RngBBCCBE4ahkghBBCBI6KAUIIIUTgqBgghBBCBI6KAUIIIUTgqBgghBBCBI6KAUIIIUTgqBgghBBCBI6KAUIIIUTgqBgg1RYZGYlFixbxjiEoM2bMwOjRo2v0nHXr1sHLy+ue1/3qq6/C398fIpEIv/zyyz0vj9Rebd7TunjfXn31VXTs2PGelkGcAxUDAjBy5EgMGTLE5mP79++HSCTC2bNn7ZzKdbjiF2ZsbCxee+01fPrpp0hOTsbQoUOr9TwhFQ61KdQIcVRUDAjArFmz8Ndff+HWrVvlHlu7di26du2K9u3b13sOk8kEs9lc7+spo9fr7bYuV3P16lUAQHR0NAICAqBQKOy6fnrvCLEvKgYEYMSIEfDz88O6deusphcUFOCHH37ArFmzkJmZiUmTJiEoKAhqtRrt2rXDxo0bK11udnY2pk2bBm9vb6jVagwdOhTx8fGWx8uaNrdt24bWrVtDoVDgxo0b5Zazd+9eiEQibN++He3bt4dSqUTPnj1x/vx5q/kOHDiAPn36QKVSITg4GAsXLkRhYaHl8ZCQELzxxhuYNm0aPDw8MGfOHABATEwMIiMjoVar4e3tjaioKGRnZwMAzGYz3nnnHTRt2hQqlQodOnTAjz/+WC7brl270LVrV6jVakRERODy5cuWbXzttddw5swZiEQiiEQirFu3DtevX4dIJMLp06cty8rJyYFIJMLevXsBlBZHs2bNsqy7ZcuWWLlyZaWvuS3r1q1D48aNoVar8cADDyAzM7PcPGvWrEGzZs0gl8vRsmVLbNiwocLlvfrqqxg5ciQAQCwWQyQSAQCOHTuGwYMHQ6vVwtPTE/369cPJkyetXn8AeOCBByASiSy/2/oLetGiRYiMjLT8HhkZifnz52PRokXQarWIiooCACxfvhzt2rWDRqNBcHAwHn/8cRQUFFhtu5eXF3777Te0bNkSarUaDz74IIqKirB+/XqEhITA29sbCxcuhMlksjyvpKQEixcvRlBQEDQaDXr06GF5X+5c7s6dOxEeHg43NzcMGTIEycnJltdo/fr12Lp1q+V9L3v+uXPnMGDAAKhUKvj6+mLOnDlWmW3Ztm0bwsLCoFQq0b9/f6xfvx4ikQg5OTkVPqc672lZq45KpUJoaKjVvg0AS5YsQYsWLaBWqxEaGoqXXnoJBoOh0qzERTEiCM888wxr1qwZM5vNlmlfffUVU6lULCcnh926dYstW7aMnTp1il29epV99NFHTCKRsCNHjljm79evH3viiScsv48aNYqFh4ezf/75h50+fZpFRUWx5s2bM71ezxhjbO3atUwmk7GIiAgWExPDLl26xAoLC8tl27NnDwPAwsPD2Z9//snOnj3LRowYwUJCQizLunLlCtNoNOzDDz9kcXFxLCYmhnXq1InNmDHDspwmTZowDw8P9v7777MrV66wK1eusFOnTjGFQsEee+wxdvr0aXb+/Hn28ccfs/T0dMYYY2+++SZr1aoV++OPP9jVq1fZ2rVrmUKhYHv37rXK1qNHD7Z371524cIF1qdPHxYREcEYY6yoqIg9/fTTrE2bNiw5OZklJyezoqIilpCQwACwU6dOWfJlZ2czAGzPnj2MMcb0ej17+eWX2bFjx9i1a9fYN998w9RqNfv+++8tz5k+fTqLjo6u8H09fPgwE4vF7N1332WXL19mK1euZF5eXszT09Myz88//8xkMhlbtWoVu3z5Mvvggw+YRCJhu3fvtrnM/Px8tnbtWgbAsk2MMbZr1y62YcMGFhsbyy5evMhmzZrF/P39WV5eHmOMsbS0NAaArV27liUnJ7O0tLQKt+GJJ55g/fr1s/zer18/5ubmxp555hl26dIldunSJcYYYx9++CHbvXs3S0hIYLt27WItW7Zkjz32mOV5ZfvY4MGD2cmTJ9m+ffuYr68vu//++9n48ePZhQsX2K+//srkcjnbtGmT5XmPPPIIi4iIYP/88w+7cuUKW7ZsGVMoFCwuLs5quYMGDWLHjh1jJ06cYOHh4eyhhx6yvEbjx49nQ4YMsbxGJSUlrKCggAUGBrIxY8awc+fOsV27drGmTZuy6dOnV/geXrt2jclkMrZ48WJ26dIltnHjRhYUFMQAsOzsbEuemr6nAJivry/7/PPP2eXLl9nSpUuZRCJhFy9etMzzxhtvsJiYGJaQkMC2bdvG/P392bvvvmt5/JVXXmEdOnSoMDtxHVQMCERsbKzVgYgxxvr06cOmTJlS4XOGDx/Onn76acvvdxYDcXFxDACLiYmxPJ6RkcFUKhXbvHkzY4xZDiinT5+uNFvZAffOL+vMzEymUqksB8ZZs2axOXPmWD1v//79TCwWs+LiYsZYaTEwevRoq3kmTZrEevfubXO9Op2OqdVqdvDgQavps2bNYpMmTbLK9vfff1se3759OwNgWa+tL8zqFAO2zJs3j40dO9bye1XFwKRJk9iwYcOspk2YMMHqwBEREcFmz55tNc+4cePKPe9OW7ZsYVX9rWAymZi7uzv79ddfLdMAsC1btljNV91ioFOnTpWujzHGfvjhB+br62v5vWwfu3LlimXa3LlzmVqtZvn5+ZZpUVFRbO7cuYwxxhITE5lEImFJSUlWyx44cCB7/vnnK1zuqlWrmL+/f6Xb9dlnnzFvb29WUFBgmbZ9+3YmFotZSkqKzW1asmQJa9u2rdW0F198sdJioDrvKQD26KOPWs3To0cPq2LqbsuWLWNdunSx/E7FgHDQaQKBaNWqFSIiIvDVV18BAK5cuYL9+/dj1qxZAEqbrN944w20a9cOPj4+cHNzw86dO2026wOlHcykUil69Ohhmebr64uWLVsiNjbWMk0ul1e7P0KvXr0s//fx8bFa1pkzZ7Bu3Tq4ublZfqKiomA2m5GQkGB5XteuXa2Wefr0aQwcONDm+q5cuYKioiIMHjzYarlff/215Zx5mTu3ITAwEACQlpZWre2qzKpVq9ClSxf4+fnBzc0Nn332WYWvuS2xsbFW7wFg/TqWzdO7d2+rab1797Z6n6ojNTUVs2fPRlhYGDw9PeHh4YGCgoIa5a1Mly5dyk37+++/MXDgQAQFBcHd3R1Tp05FZmYmioqKLPOo1Wo0a9bM8ru/vz9CQkLg5uZmNa3s/Tp37hxMJhNatGhh9b7v27fP6n2/e7mBgYFVvuexsbHo0KEDNBqNZVrv3r1hNpstp5budvnyZXTr1s1qWvfu3atcT3Xe07v3hV69elnN8/3336N3794ICAiAm5sbli5dWmfvJ3EuUt4BiP3MmjULCxYswKpVq7B27Vo0a9YM/fr1AwAsW7YMK1euxIoVKyznaBctWnTPHblUKpXlnPO9KCgowNy5c7Fw4cJyjzVu3Njy/zu/hMvWX9kyAWD79u0ICgqyeuzuDnMymczy/7LtqawzpFhcWmczxizT7j4Xu2nTJixevBgffPABevXqBXd3dyxbtgxHjhypcLk8TZ8+HZmZmVi5ciWaNGkChUKBXr16VbmPiMViq9cBKP9aAOXfu+vXr2PEiBF47LHH8NZbb8HHxwcHDhzArFmzoNfroVarAVi/N0Dp+2NrWtn7VVBQAIlEghMnTkAikVjNd2cBYWsZd2+HMzt06BAmT56M1157DVFRUfD09MSmTZvwwQcf8I5GOKCWAQEZP348xGIxvvvuO3z99dd4+OGHLQe2mJgYREdHY8qUKejQoQNCQ0MRFxdX4bLCw8NhNBqtDlyZmZm4fPkyWrduXat8hw8ftvw/OzsbcXFxCA8PBwB07twZFy9eRPPmzcv9yOXyCpfZvn177Nq1y+Zjd3ZqvHuZwcHB1c4tl8utOqcBgJ+fHwBYOpwBsOpMCJS+5hEREXj88cfRqVMnNG/evFyLRFXCw8PLFQ93vo5l88TExJRbd03fp5iYGCxcuBDDhg1DmzZtoFAokJGRYTWPTCaz+Vrc+ToA5V8LW06cOAGz2YwPPvgAPXv2RIsWLXD79u0aZbalU6dOMJlMSEtLK/e+BwQEVHs5tt738PBwnDlzxqpja0xMDMRiMVq2bGlzOS1btsTx48etph07dqzSdVf3Pb17Xzh8+LDlM3Xw4EE0adIEL774Irp27YqwsDAkJiZWul7iuqgYEBA3NzdMmDABzz//PJKTkzFjxgzLY2FhYfjrr79w8OBBxMbGYu7cuUhNTa1wWWFhYYiOjsbs2bNx4MABnDlzBlOmTEFQUBCio6Nrle/111/Hrl27cP78ecyYMQNardbSC33JkiU4ePAg5s+fj9OnTyM+Ph5bt27F/PnzK13m888/j2PHjuHxxx/H2bNncenSJaxZswYZGRlwd3fH4sWL8eSTT2L9+vW4evUqTp48iY8//hjr16+vdu6QkBAkJCTg9OnTyMjIQElJCVQqFXr27In//e9/iI2Nxb59+7B06VKr54WFheH48ePYuXMn4uLi8NJLL1V5ELjbwoUL8ccff+D9999HfHw8/u///g9//PGH1TzPPPMM1q1bhzVr1iA+Ph7Lly/Hzz//jMWLF9doXWFhYdiwYQNiY2Nx5MgRTJ48uVzLS0hICHbt2oWUlBTLFRsDBgzA8ePH8fXXXyM+Ph6vvPJKuStFbGnevDkMBgM+/vhjXLt2DRs2bMAnn3xSo8y2tGjRApMnT8a0adPw888/IyEhAUePHsU777yD7du3V3s5ISEhOHv2LC5fvoyMjAwYDAZMnjwZSqUS06dPx/nz57Fnzx4sWLAAU6dOhb+/v83lzJ07F5cuXcKSJUsQFxeHzZs3W678qahVrbrv6Q8//ICvvvoKcXFxeOWVV3D06FHLZyYsLAw3btzApk2bcPXqVXz00UfYsmVLtbefuBjOfRaInR08eJABKNd5LDMzk0VHRzM3NzfWoEEDtnTpUjZt2jSrDlJ3X02QlZXFpk6dyjw9PZlKpWJRUVGW3tiMle/0VJGyTnq//vora9OmDZPL5ax79+7szJkzVvMdPXqUDR48mLm5uTGNRsPat2/P3nrrLcvjTZo0YR9++GG55e/du5dFREQwhULBvLy8WFRUlKVjltlsZitWrGAtW7ZkMpmM+fn5saioKLZv3z6rbGXzM8bYqVOnGACWkJDAGCvtiDh27Fjm5eVl6U3PGGMXL15kvXr1YiqVinXs2JH9+eefVh0IdTodmzFjBvP09GReXl7sscceY88995xVh62qOhAyxtiXX37JGjVqxFQqFRs5ciR7//33y73uq1evZqGhoUwmk7EWLVqwr7/+utJl2upAePLkSda1a1emVCpZWFgY++GHH8q95tu2bWPNmzdnUqmUNWnSxDL95ZdfZv7+/szT05M9+eSTbP78+eU6EN65b5VZvnw5CwwMtOxfX3/9daUd6xiz3ent7tex7EqOkJAQJpPJWGBgIHvggQfY2bNnK1zu3a9JWlqaZX+88309e/Ys69+/P1MqlczHx4fNnj3bqjOjLVu3bmXNmzdnCoWCRUZGsjVr1lh1UrWVp6r3FABbtWoVGzx4MFMoFCwkJMTqShXGSq8y8vX1ZW5ubmzChAnsww8/tFoPdSAUDhFjLnQSjDilvXv3on///sjOzq6TYXQJcXZvvfUWPvnkE9y8eZN3FCIQ1IGQEEI4W716Nbp16wZfX1/ExMRg2bJlVZ4CI6QuUTFACCGcxcfH480330RWVhYaN26Mp59+Gs8//zzvWERA6DQBIYQQInB0NQEhhBAicFQMEEIIIQJHxQAhhBAicFQMEEIIIQJHxQAhhBAicFQMEEIIIQJHxQAhhBAicFQMEEIIIQJHxQAhhBAicFQMEEIIIQJHxQAhhBAicFQMEEIIIQJHxQAhhBAicFQMEEIIIQJHxQAhhBAicFQMEEIIIQJHxQAhhBAicFQMEEIIIQJHxQAhhBAicFQMEEIIIQIn5R2AEHLv8nQGpOXpkJJbgqwiPQpLjCgsMaLA8q/J8v/CEiOMZgaTmYExBjMDPtq3EiKJBJBKIZJIIJJKAMm//5dJIXb3gFSrLf3xK/1XotVC6ucHiZsb780nhNwjKgYIcXBmM0NSTjGuphcgIaMQKbk6pOTpkJqnQ2peCVLzdCjSm+5pHbrz52v9XJFSCamvb2mB8G+hINX6/Vc4BARA0bw5xArFPWUkhNQfKgYIcRA6gwlX0gpwNb0AV9MKcDWjEFfTCnA9sxA6g5l3vAoxnQ6GpCQYkpIqnkkqhaJpCBStwqFs1QrK1uFQtGoFqbe3/YISQiokYowx3iEIERqTmeFySj7O3srBmVu5OHMzB3Gp+TCa+Xwcf/9lMZf1SgMCoGzVCorwVlCGh0MZHg5Zo0YQiURc8hAiVNQyQIgdZBSU4NDVTJy6kYOzt3Jw4XYeig331rTvCowpKShISUHB3r2WaWJ3dyhatoCyVTiUrVtDE9ELsoAAfiEJEQAqBgipBwUlRhy5lomYK5k4eDUDl1PzQW1w1WPOz0fx8RMoPn7CMk0RFgZN3z5w69MX6i6dIZLJOCYkxPXQaQJC6oDRZMbxxGzEXMlAzJUMnL2Vy63JvzZ4nSaoDbFGA01EL2j69IFb377UakBIHaBigJBa0hlM2BeXjp0XUrD7Uhpyigy8I9WaMxUDd6NWA0LuHRUDhNRAns6AXbGp2Hk+Ffvi0l3mvL8zFwN3smo16NcPMn9/3pEIcQpUDBBShSK9EdvPJmPbmds4fC0TBpPrfWRcpRiwIhZD07MnvB4cC/dBgyCSy3knIsRhUQdCQmxgjOHwtSz8eOIW/jifjMJ7HNSHcGA2o/DgQRQePAiJlxc8Ro2E14MPQtmiBe9khDgcahkg5A43s4rw08lb+OnkLdzMKuYdx25csmWgAsr27eE1diw8hg+HxE3DOw4hDoGKASJ4BpMZO84lY+PRGziSkCXISwCFVAyUEanV8IiKgteDY6Hu0oV3HEK4omKACFZavg7fHr6B747eQHp+Ce84XAmxGLiTPDQUXmPHwHP0aEh9fXnHIcTuqBgggnM+KRdfHkjAb2dvu2RnwNoQejFgIZPBPbIffGbOhLpzZ95pCLEbKgaIIDDGsCs2DZ/vv4YjCVm84zgcKgbKU/fqCb/58+kUAhEEupqAuDTGGLafS8bHu67gcmo+7zjEiRQdOozEQ4eh7tkTfvPnQd21K+9IhNQbKgaISzKb/y0CdscjLrWAdxzixIoOH0bi4cNQ9+hRWhR068Y7EiF1jooB4lLMZobfziXj413xiE+jIoDUnaIjR5B45AjU3bvDb8F8KgqIS6E+A8QlMMbw69lkfLQrHleoCKgx6jNQc+ru3aGdPw+a7t15RyHknlExQJzesetZePO3izhzK5d3FKdFxUDtqbt1g3b+fGh6UFFAnBcVA8Rp3cgswju/x+L38ym8ozg9Kgbunbp7d/g//xyU4eG8oxBSY1QMEKeTpzPg413xWH8wEXqTmXccl0DFQB2RSOAzdSr8FsyHWENDHRPnQcUAcRpGkxnfHb2BFX/HI6tQzzuOS6FioG5JAwPh/8Lz8Bg8mHcUQqqFigHiFE7fzMFzP53FpRQaK6A+UDFQP9z690fAS0sha9iQdxRCKiXmHYCQyhSWGPHqtgsYszqGCgHidAr27MHVESOR+eWXYEYj7zjlREZGYtGiRdWef+/evRCJRMjJyam3TIQPKgaIw/r7YioGL9+HdQevw0ztV8RJsaIipC17HwljH0TRqVO849yTiIgIJCcnw9PTs06Wd+XKFbi7u8PLy6tOlkdqj4oB4nDS8nV4/NsTeOTr47idq+Mdh5A6UXL5MhIfmozkl1+BKdc5L4OVy+UICAiASCS652UZDAZMmjQJffr0qYNk5F5RMUAcyqajNzDog33YcY4uFyQuiDHkbN6Mq8OGI3fbNt5pysnOzsa0adPg7e0NtVqNoUOHIj4+3vL43acJMjMzMWnSJAQFBUGtVqNdu3bYuHFjtda1dOlStGrVCuPHj6+PTSE1RMUAcQiZBSV4ZP1xPPfzOeTpHO/cKiF1yZSZidvPLkHijJnQ30riHcdixowZOH78OLZt24ZDhw6BMYZhw4bBYDDYnF+n06FLly7Yvn07zp8/jzlz5mDq1Kk4evRopevZvXs3fvjhB6xatao+NoPUAhUDhLu9l9MwZOV+/B2byjsKIXZVdPgwEsaORf7u3byjID4+Htu2bcMXX3yBPn36oEOHDvj222+RlJSEX375xeZzgoKCsHjxYnTs2BGhoaFYsGABhgwZgs2bN1e4nszMTMyYMQPr1q2Dh4dHPW0NqSm6URHhRmcw4X+/X8L6Q9dBF7gSoTLn5uLW4/PgM3MmGjz9FERSPl/LsbGxkEql6NGjh2War68vWrZsidjYWJvPMZlMePvtt7F582YkJSVBr9ejpKQEarW6wvXMnj0bDz30EPr27Vvn20Bqj1oGCBcXb+dh1P8dwLqDVAgQAgBZa9ciceo0GFKcp7/MsmXLsHLlSixZsgR79uzB6dOnERUVBb2+4kHBdu/ejffffx9SqRRSqRSzZs1Cbm4upFIpvvrqKzumJ3eilgFid18eSMC7f1yC3khDCRNyp+JTp5DwwBg0fO9duNm5l314eDiMRiOOHDmCiIgIAKVN+pcvX0br1q1tPicmJgbR0dGYMmUKAMBsNiMuLq7C+QHg0KFDMJlMlt+3bt2Kd999FwcPHkRQUFAdbhGpCSoGiN0U6Y145sez2H42mXcUQhyWKTsbN+fMhe/s2fB7YiFEEold1hsWFobo6GjMnj0bn376Kdzd3fHcc88hKCgI0dHRFT7nxx9/xMGDB+Ht7Y3ly5cjNTW10mIg/K4bOR0/fhxisRht27at0+0hNUOnCYhdXEsvwOhVMVQIEFIdjCHzs89wY8ZMGNLS7LbatWvXokuXLhgxYgR69eoFxhh27NgBmUxmc/6lS5eic+fOiIqKQmRkJAICAjB69Gi75SV1h+5NUE8iIyPRsWNHrFixolrz7927F/3790d2drbLjcb154UUPL35DPJL6JJBR0X3JnBcEl9fBL2/DJpevXhHwc6dOzF06FDodDrI5XLecUgdopYBB1EXw3zqdDrMmDED7dq1g1Qq5V6hm80M7++8jLnfnKBCgJBaMmVm4sasR5D+f6vAzPz62aSmpmLr1q0ICwujQsAFUZ8BB1E2zOe9MJlMUKlUWLhwIX766ac6SlY7uUUGLNx0Cvvi0rnmIMQlmM3I+L//Q/HJE2i4bBmkvr52jzBs2DDk5+dj9erVdl83qX/UMmAn9hjmU6PRYM2aNZg9e/Y9Fxb34kZmER5YHUOFACF1rPDgISSMG4eSK1fsvu4TJ04gLi4OgwYNsvu6Sf2jYsBO7DXMJ2+nb+ZgzJoYXMso5B2FEJdkvJ2M65OnoOjYMd5RiAuhYsAO7DXMJ29/XkjBpM8OI6Og4gFHCCH3zpybixuzHkHeH3/wjkJcBPUZsAN7DfPJ07qYBLz+20WY6doUQuyC6fVIeuppGNPS4DNtGu84xMlRMeCgyob5XLFiBdq1aweNRoNFixZVOswnD4wxvLU9Fl8cSOAdhRDhMZuR+vY7MNxORoMlz0IkEvFORJwUnSawgzuH+SxTk2E+O3TogNDQUMTFxdkrcrXojWbM/+4UFQKEcJa1bh1uP/MsmJEu4SW1Q8WAHdw5zOeBAwdw5swZTJkypcphPv/66y8cPHgQsbGxmDt3LlJTq77F78WLF3H69GlkZWUhNzcXp0+fxunTp+t4i0rvODh3w3FsP0cjChLiCPJ++w23Fj4Bs4O1HhLnQKcJ7GTt2rV44oknMGLECOj1evTt27fKYT6vXbuGqKgoqNVqzJkzB6NHj0Zubm6l6xk2bBgSExMtv3fq1AlAaXN+XSnWmzD76+M4cCWjzpZJCLl3Bbt34+acuQhe9X8QazS84xAnQsMROwhnGeazsMSImeuO4WhCFu8opA7RcMSuRdWhA4I/+xSSexjRlAgLnSZwAM4yzGeezoCpXx6hQoAQB1d85gwSp8+AMTOTdxTiJKgYcADDhg3D33//jVWrVvGOUqGcIj0mf34EJ2/k8I5CCKmGkkuXkDh5Cgyp9rvrIXFedJqAVCm7UI9Jnx/GpZR83lFIPaHTBK5L0aIFmnyzARIPD95RiAOjlgFSqXydAdO+OkqFACFOqiQuDjcfexzmkhLeUYgDo2KAVKhYb8LD647hXFLlVzAQQhxb8YkTSHrqaTCTiXcU4qCoGCA26Y1mzNlwHMeuZ/OOQgipAwW7diHl1Vd5xyAOiooBUo7ZzPDk96exP57GESDEleT88CPSVqzgHYM4ICoGSDkvbztPIwsS4qIyP/kUWRu+4R2DOBgqBoiVFX/H4ZvDN3jHIITUo9R33kHejh28YxAHQsUAsfjxxC2s+DuedwxCSH0zm3F7yXMoPHSIdxLiIKgYIACAowlZeOHnc7xjEELshBkMuDV/AYovXOAdhTgAKgYIbmQW4dFvTkBvMvOOQgixI3NhIW7OmQv9HTc3I8JExYDA5ekMmLX+GLIK6banhAiRKTMTNx6ZDWN6Ou8ohCMqBgTMZGaY/90pxKcV8I5CCOHIcPMmbj4+D0xPfxQIFRUDAvbGbxfxTxz9NUAIAXTnziF12fu8YxBOqBgQqO+O3MC6g9d5xyCEOJDsDRuQ9+efvGMQDqgYEKDzSbl49VfqQUwIKS/5xaXQ37rFOwaxMyoGBCZPZ8C8705Cb6QrBwgh5Znz85G06EnqPyAwVAwIzLM/nEViZhHvGIQQB6Y7fx6p7y3jHYPYERUDAvLVgQT8cSGFdwxCiBPI/uYb6j8gIFQMCMTpmzl45/dY3jEIIU4k+cWl0N+8yTsGsQMqBgQgt8iAed+ehMHEeEchhDgR6j8gHFQMCMCzP51BUk4x7xiEECeku3ABqe++xzsGqWdUDLi4n07cws4LqbxjEEKcWPa33yJvJ/UfcGVUDLiwlFwdXqPxBAghdSB5KfUfcGVUDLiwZ386izydkXcMQogLsPQfMNJ3iiuiYsBFfXfkBt13gBBSp3QXLiBr/de8Y5B6QMWAC7qZVYS3tl/kHYMQ4oLSV62CITmZdwxSx6gYcDGMMTzz4xkU6k28oxBCXBArKkLKW2/xjkHqGBUDLubrQ4k4fC2LdwxCiAsr+HsX8nfv4R2D1CEqBlxIWp4O7++8zDsGIUQAUt98E+ZiGr/EVVAx4ELe2hGL/BLq6UsIqX+G27eRsXo17xikjlAx4CIOXs3A1tO3eccghAhI5rr1KImP5x2D1AEqBlyAwWTGy1tpcCFCiJ0ZDEh+7TUwRvc9cXZUDLiALw8k4EpaAe8YhBABKj5+ArlbfuEdg9wjKgac3O2cYny0i5rpCCH8pC1bBlNODu8Y5B5QMeDk3vjtIopoTAFCCEem7GykffAB7xjkHlAx4MSOJmTh9/MpvGMQQghyfvwJRSdP8Y5BaomKASf2v99jeUcghJBSjCHl1VfBTNRS6YyoGHBSOy+k4OSNHN4xCCHEoiQuDrm//so7BqkFKe8ApOZMZoZlNNIgIQCAzzIz8XdBPq6V6KEUi9BRpcLTfn5oKldY5nklJQWHiwqRZjRCLRaXzqP1Q6hCUcmSgaslJVieno5jxUUwMYZmCgVWNAxCQ5kMAPBuWiq25OZCLRbjST8/jPTwtDz3j/w8bMvNxepGwfWz4Q4qc80n8Bw5EiKJhHcUUgNUDDihH0/cpEsJCfnX8aIiTPLyQlulCibGsCIjHY/cvIlfm4ZCLS5t/GyjVGKkhwcCZVLkmsxYlZGBR27dxF+hzSARiWwu94Zejyk3EjHW0wvztFq4icW4oi+B4t/59xTk47e8PHwRHIxEvQFLU5Jxn1oDb6kU+SYTVqan48vgxnZ7HRyFPjERedu3w3PUKN5RSA3QaQInozOYsOJvupSQkDKfBQfjAU8vhCkUaKVU4u2AQCQbjbio01nmGe/lha5qNYJkcrRWKrFQq0WK0Ygkg6HC5a7MSEdfNzcsbtAArZVKNJbLMcDNHb7S0r+hrpXo0V2tRlulCsM9POAmFuPWv8t7Pz0dE728LS0IQpPxyadgZjPvGKQGqBhwMmtjriM5V1f1jIQIVP6/ByHPCpqpi8xmbMnLRSOZDAEVHKzNjGFfQSFCZHLMvnkT912Jx4TE6/g7P98yT0ulAud1OuSaTLig00HHGBrL5ThRVITYEh2meHvX/cY5Cf21a8jb8TvvGKQGqBhwIvk6Az7Zd5V3DEIclpkx/C8tFZ1VKoTd1R9gY3Y2usRdRtf4OOwvLMQXjYIhr+AUQabJhCJmxhdZmbhPo8HnjYIxyM0dT9xOwrGiIgDAfRo3jPTwwPjE63ghORnvBARCJRbj9dRUvOIfgE05ORh27RomJyYivqSk3rfd0WR8soZaB5wI9RlwIhsOJyK3uOJmTUKE7o3UVMSXlOCbxk3KPTbCwwO9NBpkGI1Ym5WFp24n4dvGTaAQl/+biKF0rP0Bbu6Y7uMDAAhXKnG6uBjf52Sjm1oNAJiv9cN8rZ/leasyMtBLo4YUwCeZGdga0hR7CwvwfPJt/BjStB622HHpr1xF/s6d8Bg6lHcUUg1UDDgJncGErw5c5x2jXuUe2oyiuEMwZN2CSCqHIigc3v1mQObbyGq+kqRYZP+zAfrky4BIDHmDUDQY/zrEMts9w3U3zyPvyE/Qp16FqSALfg+8CHWLXtbrPvIz8o7+BADw7DEWHt3H/Le+25eR9edqBExbDpGYekg7qjdTU7CvsABfBze22fzvLpHAXSJBiFyO9ioVesXH4e+CAgz38Cg3r5dECimAZgq51fRQhRwni4ptrv9aSQl+zcvFTyFN8XNuDrqq1fCRSjHE3QNLU1JQaDZBI7D9J2P1GrgPGQJRBS0wxHFQMeAkfjh+ExkFrt3UqLt5Hu6dh0MeEAYwE3L2fY3UzS+h4aw1EMuVAEoLgdTNr8Cz1zj4DJoLkVgCfVoCRKKKz3gxvQ6yBqFwaz8Y6VveLve4Pi0BuQe+hd+DLwOMIf2n16Fs2hlyvxAwswmZO1fBd8h8KgQcFGMMb6Wl4u+CAqwLboxGcnl1ngQGQM9sN2PLRSK0VaqQoNdbTb+u19vsFMgYw6upKVjSoAE0YjHMDDD+eye/sn9NAryxX0l8PPJ3/gmPIVG8o5AqUDHgBIwmMz795xrvGPXOf/zrVr/7Dn8Stz6eDH3qFSiD2wIAsnZ9AY8uI+HZc5xlvrtbDu6matYVqmZdK3zckHkLMr8QqJp0KF2eXwgMmbcg9wtB3pGfoAxuA0Vgi9puFqlnb6SlYnteHv4vqBE0YjHSjUYAgLtYDKVYjJt6PX7Pz0dvjQbeEglSjQZ8kZkFhUiEvho3y3KGJ1zDk1o/DHJ3BwA87OODp24noatKje5qNQ4UFmLvvwXH3X7MzYWPRIr+bqXP7aRSYVVmBs4UF+OfwgI0k8vhIdDr7jPWrIF71P3UOuDgqBhwAtvO3MatbNtNk67MXFIIABArS7+wTYU50CdfhqZNJFI2LIYhJwUy30bw6jsVykZtar0euV8IjNlJMOalAQwwZiVBrm0CQ3YyCs79jcDpK+pic0g92fTv3fKm37xhNf2tgAA84OkFhViEE8VF2JCdhVyTCVqpFF1UanzXpInlMkEASNDrkW/+byjdQe7ueCUgAJ9nZuLttFSEyOVY0TAIXf7tL1Amw2jEp5kZ+K7Jf/0U2qtUmOHtg0dv3YSvVIq3AwLrYcudQ8nly8j/+294DB7MOwqphIgxJsDGK+fBGMP9H/6DeIENMsSYGek/vQGzrhABU94DAJQkXULKN4shVrrDu//DkPuHouD8buSf2o6GD6+CzCeoyuUmvjvCZp+B/FM7kHd8KwDAo2s03DsNQ+qmF+HeeQSY2YTcmO8AsRQ+g+ZYWilcye+/LOYdgbgwRXg4mv78E7UOODBqGXBwf11MFVwhAABZf66BPj0RAZPfs0wrq1vdOg6BW/vSvzJ8/JtBl3gGBef+gne/GbVen3unYXDvNMzye8G5XRDJVVAEtULS548icNpymPIzkbHtPQTN/RIiqTAHkyGkNkpiY1GwezfcBw7kHYVUgMYZcHCf73f9vgJ3y/prDYqvHoP/pLch9dBapkvcSgdxkWmtz9nKfINhzEuvs/WbinKRG/MdfAY9ipLbcZD5NITMJwjKJu3BTEYYspPqbF2ECEXG6jW8I5BKUDHgwGKT83DsejbvGHbDGEPWX2tQFHcI/hPfgswrwOpxqac/JG4+MGbesppuyEqC1KNBneXI3v0F3LuNLi1EmMn6lqxmE0ADqRBSY7oLF1B87hzvGKQCVAw4sG8OJ/KOYFdZf61BwYW90I58BmK5GqaCbJgKsmE2lF5SKRKJ4NF9LPJO/IrCSwdgyL6NnH82wJh1C27t77csJ3XTC8g78d9tVM36YuhTr0GfWtrKYsxNhT71WmmHwbsUJ5yCISsJ7p2HAwDkAS1gzLqF4qvHkX/6D0AsgbQafRMIIeXl/PQT7wikAtRnwEEVlBjxyylhNUcXnNoBAEjd+LzVdN9hi+DWbhAAwKNbNJhJj+zdX8Csy4fcrykaTHgDMu//emsbslOgKM6z/K5PiUfqxhcsv2fv/gIAoGk7ENrhT1qmmw0lyPr7E/iNWmIZt0DqoYX3oLnI+H0FRBIZfIc/WeHgRoSQyuVt3wH/556DWKnkHYXcha4mcFAbDl3HS1sv8I5BBIKuJiD20vC9d+n2xg6IThM4qG8O36h6JkIIcTI5P9KpAkdExYADOpqQhcup+VXPSAghTqbo2DHob9AfO46GigEHtEFgHQcJIQLCGHJ+/pl3CnIXKgYcTHahHjvPp/COQQgh9SZ3yy/Wl+wS7qgYcDC/nb0NvYmuYyeEuC5jaioKDxzgHYPcgYoBB7NFYJcTEkKEKecnOlXgSKgYcCDXMwpx8kYO7xiEEFLv8vfsgTEri3cM8i8qBhzI1tO3eUcghBD7MBiQu20b7xTkX1QMOJBfz1IxQAgRjlwanthhUDHgIC7ezsMVAd6qmBAiXCXxV1B85gzvGARUDDgMahUghAhR3o4dvCMQUDHgMHacS+YdgRBC7K7gn/28IxBQMeAQ4lPzkZhZxDsGIYTYnT4hAfpbdEk1b1QMOIDdl9J4RyCEEG4KD1DrAG9UDDiAXVQMEEIEjE4V8EfFAGe5RQacTMzmHYMQQrgpOnwYzGDgHUPQqBjgbG9cGoxmxjsGIYRwYy4qQtGJk7xjCBoVA5ztoVMEhBBC/QY4o2KAI5OZYV9cOu8YhBDCHfUb4IuKAY5O38xGdhGdJyOEkJK4OBhSqaWUFyoGODp4JZN3BEIIcRh0qoAfKgY4Onqdbt9JCCFl6FQBP1QMcGIyM7qkkBBC7lB46BCYycQ7hiBRMcDJ+aRcFOpppyeEkDLmvDy6iyEnVAxwcoxOERBCSDkF//zDO4IgUTHAyZEEKgYIIeRuxcdP8I4gSFQMcMAYw3FqGSCEkHJ0cXG8IwgSFQMcxKcV0PgChBBigzkvD4YkuqWxvVExwMHpmzm8IxBCiMPSXbrEO4LgUDHAwcXbebwjEEKIw6JiwP6oGOCAigFCCKlYyaXLvCMIDhUDdsYYQ2wyFQOEEFIRahmwPyoG7OxmVjHyS4y8YxBCiMMy3LoFU0Eh7xiCQsWAnV1MzuUdgRBCHBtjKImjUwX2RMWAnVF/AUIIqRqdKrAvKgbs7CL1FyCEkCqVxFIxYE9UDNhZbHI+7wiEEOLwdJfpNIE9UTFgRyVGE5Jzi3nHIIQQh1cSHw9mNvOOIRhUDNjRreximBnvFIQQ4vhYcTH01xN5xxAMKgbs6EZmEe8IhBDiNEouxfKOIBhUDNjRjSwqBgghpLp08fG8IwgGFQN2lEgtA4QQUm3GlFTeEQSDigE7opYBQgipPmMqFQP2QsWAHd2kYoAQQqrNkEbFgL1QMWBH1DJACCHVZ0xN4x1BMKgYsJOcIj2KDSbeMQghxGmY8/NhLqI/ouyBigE7ySzU845ACCFOx0D9BuyCigE7ySygYoAQQmrKmJbOO4IgSHkHEIqswhLeEQghxOGIPD0Ab08YPTXQeSpR6C5DnkaEbLUZaUoDervnoBfvkAJAxYCd0GkCQoggiMUQeXmCeXvA4KWBzl2BQjcpct1EyFKZkKbUI1lejJvyfNyQ5KBEVASg4n4BgaJ0KgbsgIoBO6HTBIQQpyWVQuTtBebtDr2nBsXuchS6S5GjBjLVJqQpSnBbUYSb0jzckuTBKMoHUDd3aM3SZdXJckjlqBiwkyxqGSCEOBCRXA74eMHs7Q69pxrF7nLku0mQo2bIVJmQqizBbVkhbsjycFucBybKAZBj95zZumy7r1OIqBiwEzpNQAipbyKVCvDxgsnLDSWeKhS5y5HvJka2miFTaUCKogS35YW4Ic1DmqQAQNa/P44rpySHdwRBoGLATrKpGCCE1ILI3a20g52XG0o8VCj0+K+DXbrSgBRFMZJkhUiU5iJXrAOQ/u+Payg2FvOOIAhUDNhJod7IOwIhxBGIRJYe9AYvDXQeShS6SZHnJkKWyow0VWkHuyRZPhIluSgS6wDoAAjzenudUcc7giBQMWAnJQYz7wiEkPoikfzXg95TjWIPJQrdpcgt62Cn1CNZXoRb0nzckOZCLyoEUMg7tVOgYsA+qBiwkxIjDUVMiFORSiHy8YLZcoBXIF8jQa4GyFAZkaYswW15EW7K8pEkyYUJeQDyeKd2OToTFQP2QMWAnZQYqWWAEN5ESqWlg53eQ4Vij/960GeojEhVlCBJXogb0lykSApQ2ns+h29ogaM+A/ZBxYCdUDFASP0QaTSAj2dpD3oPZWkPeo0Y2Rr2bwc7neUAnykuApDx7w9xBnSawD6oGLCTErpjISHVJvLwAHw8YPR0Kx2i1k2KfI0YWWoz0lUGpMh1uCUvQKIkB/niEgBp//4QV0MtA/ZBxYCdUMsAETSxGCJPDzBvTxi9NCj2+HeIWssY9HokK4pwS1qARGkOdFUMUUuEo8RE93WxByoG7ERvomKAuBipFGIvT5i9PaD3UkPnoUCBW+kQtVkq439j0MvycEOSC6OoAEAB79SEEBuoGLADs5mBMd4pCKkGmQwiH+//hqi1dLADMv/tYJcsL8INaR6SJLlgolwAubxTExcmEol4RxAEKgbsQCwWQSwCzFQQEDtqoDAgWKFDkLIYgXIdGsgKoRUXwUdcCC9RAdzN+dCY86E05uGZxc0QL8lAmrgQzjBELREOiUjCO4IgUDFgJ1KJGHrqN0BqoSYHdYU+B1J9DkS6XIjMBkCP0p8qXGvdBWnFNAgOcTxikZh3BEGgYsBOZGJRdb6TiQuzx0G9trQydyQXu8549sR1iECnCeyBigE7kUrEAOjyQlfgyAf12vIVK3hHIMQmOk1gH1QM2IlMQtWto3HFg3ptaUX0VUAcE3UgtA/6BrATqZjOe9UXOqjfOy11ZyEOiloG7IOKATuRUstAleigzo/WaOAdgRCblFIl7wiCQMWAncglwmkZoIO68/EtoSFfiWNyk7vxjiAIVAzYiUrufE1d/go9GilKbB/UkQ93VkAHdReh1eXTtwFxSO4yd94RBIE+/nbioZRxWzcd1ElVfAuzAE/eKQgpj1oG7IOKATvxUN37S00HdVJftAUZgKeWdwxCytHINLwjCAIVA3ZyZ8sAHdSJo1Hpi6CRqlFopDsFEsdCpwnsg4oBO3nV9y+867OGDurEYWkVnlQMEIdDpwnsQzhd3DnTyMQQF2WUFgKEOCBfKTXHEsfjLqeWAXugYsBeNHQ+ljg2LQ1JTByQl8KLdwRBoGLAXtS+vBMQUikto68D4ngaqBvwjiAI9Om3Fzd/3gkIqZTWTGMSE8fjr6bvTnugYsBePBvxTkBIpbQG6s9CHE+AJoB3BEGgYsBe3PwBCZ2TJY7Lt6SQdwRCrCglSngqaDQse6BiwF5EIsAziHcKQiqkLcrlHYEQK9RfwH6oGLAnz2DeCQipkLYwi3cEQqz4a6i/gL1QMWBPXlQMEMflU5ABsYi+EojjoJYB+6FPvj15NeGdgJAKSc1GeMk9eMcgxKKhpiHvCIJBxYA90WkC4uB8aRx44kCaejblHUEwqBiwJ6/GvBMQUimtVM07AiEWVAzYDxUD9uTXincCQiqlFcmqnokQO6FiwH6oGLAnjS+g8eOdgpAKaZmIdwRCAJR2HtTI6OZZ9kLFgL01COedgJAK+RpNvCMQAgAI9QzlHUFQqBiwtwateScgpEJag453BEIA0CkCe6NiwN6oZYA4MK2ugHcEQgBQMWBvVAzYW4M2vBMQUiEakpg4iuZezXlHEBQqBuytQSsA1EmLOCZtfjrvCIRALBKjtS+dUrUnKgbsTeFOwxITh+VZnAOZmC4vJHyFeITQlQR2RsUAD4EdeScgpEK+Ci/eEYjAtdW25R1BcKgY4CG4B+8EhFRIK3PjHYEIXBtf6ltlb1QM8BDcnXcCQiqkFSt5RyAC107bjncEwaFigIfAjoBEwTsFITb5iqS8IxABk4qlaOnTkncMwaFigAepHAjswDsFITZpzbwTECFr4d0CcomcdwzBoWKAFzpVQByUr9HAOwIRsPba9rwjCBIVA7xQMUAclFZfzDsCEbDugfTdyAMVA7zQFQXEQWmLaUhiwodYJEb3ACoGeKBigBf3AMCnGe8UhJSjLcriHYEIVEvvlvBUePKOIUhUDPDUfCDvBISU45ufwTsCEShqFeCHigGemlExQByPWl8ItVTNOwYRoB6BdPqUFyoGeGraB6BLaIgD0sqpqZbYl1QsRRf/LrxjCBYVAzzJNdSRkDgkLd0khthZO207qGXUIsULFQO8Ub8B4oB8xTRCJrGvXoG9eEcQNCoGeKN+A8QBaRl9NRD76t+4P+8IgkafeN4C2gGaBrxTEGJFa2a8IxABCXILQiufVrxjCBoVA7yJRECLKN4pCLGiNZTwjkAEpH8wtQrwRsWAI2gzmncCQqxoS2hIYmI/AxoP4B1B8KgYcARNIwGVN+8UhFj4FufyjkAEwlPhic4NOvOOIXhUDDgCiRRoOZx3CkIstIU0JDGxj36N+kEilvCOIXhUDDgKOlVAHIhvfjpEEPGOQQRgQDCdInAEVAw4itBIQOnFOwUhAACp2QgvuQfvGMTFaWQa9A7qzTsGARUDjkMiA1rRqQLiOHypGCD1bHCTwVBKlbxjEFAx4Fhaj+adgBALrVTFOwJxcaOajeIdgfyLigFH0qw/oPHjnYIQAIBWRDfRIvUnUBOIrv5deccg/6JiwJFIZECHibxTEAIA0DLqQEjqz4jQERCJaB9zFFLeAchdOk0DDn7MOwUh0JpMvCPUqfTf0pF3Ig8lySUQyURQN1cjYHwAFIHlb8rEGEPi8kQUnCtA4wWN4dGl4v4TxlwjUjanoOBCAUxFJmhaaBA4JRCKgP+Wm7wxGTkHciBSiBDwYAC8Irwsj+UezUVOTA6aPNmkTrfX0Y1sNpJ3BHIHahlwNH4t6LbGxCH46l1rSOLCS4XwGeCD0JdCEfJMCJiJ4fr712EuMZebN/PPTFTnykrGGBI/SoQ+XY/GCxuj+WvNIdPKcH3Zf8vNO5WH3EO5CFkcgoDxAUhamwRjvhEAYCoyIfWnVAROC6zTbXV07bTt0NSzKe8Y5A5UDDiiTlN5JyAE2pIC3hHqVMjiEHj38YYySAlVYxUaPdIIhkwDiq9bD71cnFiMjD8yEPRwUJXL1KfqUXy1GA2nN4Q6VA1FoAINpzWEWW9GzuEcAEBJcgk0rTRQNVXBq6cXxCox9Ol6AEDK5hT4DPCB3FdY/TOoVcDxUDHgiNqOAeTuvFMQgdMWufaQxKbi0tMgEs1/o9+ZS8y49ektNJzaEDIvWZXLYIbSuzuKZP81I4jEIohkIhTFFQEAlMFKFF8vhqnQhOLrxWB6BoW/AoVxhdAl6uA72LcuN8vhqaQqjAgdwTsGuQsVA45IrgHaPsA7BRE4bX467wj1hpkZUr5LgTpMDWWj/65zT96YDHVzNTw6V2+MBUWgAjJfGVJ/SIWp0ASz0Yz07ekwZhlhzC09FeDezh2evTxx9bWruPXFLTSa3QgihQi3v76NhtMbImt3FuKei8O1N69Bl6Srl+11JCNCR8Cd/thxOFQMOKrO03knIALnWZQDmbjqv46dUfKGZOhu6RD8WLBlWt6pPBTGFiLgoYBqL0ckFaHxgsbQp+gROy8WF+dcRGFsIdzau1n1OfB/wB8t3muBsDfD4NHFAxm/ZcCttRtEEhHSt6Uj9IVQePfzxq3PbtXlZjqkSa0m8Y5AbKCrCRxVo65Aw87A7ZO8kxCBEoHBR+GJ1OIM3lHq1O0Nt5F3Jg+hz4dC5vNfsVN4sRD6ND1iH4+1mv/G/92AuoUaoc+H2lyeKkSF5m80h6nIBGZkkHpIcfX1q1CF2B60qeR2CXIO5aDZa82Qsz8H6pZqSD2k8OzuiaQvk2AqNkGics0b93QL6IYw7zDeMYgNVAw4sl7zgJ9m8U5BBEwrc3eZYoAxhuRvkpF3Ig9Nn2sKuZ91pz3tcC28+1nfSvzK0isIfCgQ7h2rbtaWqEsP4CUpJShOKEaDMQ1sZkhan4SAiQGQKCVgZgZmKu13wIyl/6L8xQ0ug1oFHBedJnBkrUcDHo14pyACphW7zrjxyRuSkXMwB8GPBkOsFMOQY4AhxwCzvvToK/OSQdlIafUDADIfmVXhEPdcHPJO5Fl+zz2ai4LYAujT9Mg7mYfry67Do7MH3NuWLyCy92VD6i6FR6fSPgnqMDUKYwtRdKUIGX9mQNFQYdWh0ZUEaALoDoUOjFoGHJlECvSYC/z1Eu8kRKC0Itf5isjanQUASPhfgtX0oFlB8O7jbespNulT9DAV/TcgkzHXiORNyTDlmiD1ksIrwgt+0eWHFTfmGpH+azpCl/53ukEdqoZ2iBaJHyZC6iFF0OyqL2d0VuNajINE7JqFjisQMcYY7xCkErpcYHkbQJ/POwkRoI86Dsfnued4xyBOTilRYueDO+Gj9OEdhVSAThM4OqUn0GkK7xREoLRGA+8IxAWMbTGWCgEHR8WAM+j5KCCi5jVif1q961/3TuqXTCzDjDYzeMcgVXCdE4KuzDsEaD0KuLCFdxLu3tlfgp8vGXApwwyVVISIYAneHaRAS+1/xVLkukLsS7S+yc7cLjJ8MsL2pV53e/S3Ynx6woAPoxRY1LP0ZjMlRoZHftVh6yUDAtzEWD1ciUGh/318lsWU4EauGR8Pq946nIW2OJ++Jcg9GdVsFAI01R+7gfBBH3Nn0fdZ4MIvAITdxWNfohHzusnRraEERjPwwu4S3P9NES4+7gaN/L9RXmZ3luH1/v/dNU4tq96tUrfEGnD4lgkN3a3n/+yEASdum3Bolga/XzHioZ+KkbrYDSKRCAnZZnx+0oDjczR1s5EORFuUDVRvMD5CypGIJJjVli6PdgZ0msBZ+LcGwunmHn9M0WBGRznaNJCgQ4AE66KVuJHLcCLZuiVALRMhwE1s+fFQVF0MJOWZseB3Hb4do4Lsrk9GbIYJo1pK0aaBBPO6yZFexJBRVFqYPba9GO8OUlRrHc7GlYckJvVvSNMhCPYIrnpGwh0VA86k3xJU676qApL77112fVTWr8u35wzQvpePtqsL8PzfOhQZKm9RMTOGqVuK8UxEaaFxtw7+Ehy4YUKxgWHnVSMC3UTQqkX49qwBSqkID4S75rC9an0hVFLXOvVB7EMEER5p+wjvGKSa6DSBMwloW9p34OJW3kkcgpkxLPpDh97BErS94wD+UDsZmniK0dBdhLOpZiz5W4fLmWb8PEFd4bLePaCHVAws7GH7VrIPd5LhbKoJrVcXQKsWYfM4FbJ1wMt7ddg7XYOlu3XYdN6AZj5ifDVKhSAP16mztXJP3DQWVz0jIXcY0HgAmns35x2DVBMVA84m8gUg9leAufCYpdU0b7sO59NMOPCw9bn6OV3+O6C385cg0F2EgV8X4WqWGc18yh+kT9w2YeURPU7O1UAkst3yIpOIsGq49V/IM7cWY2F3OU6lmPDLJSPOPOqG92JKsPAPHX4aX3Hh4Wy0Ug1u8g5BnIpEJMGCTgt4xyA14Dp/vghFg1ZAu3G8U3A3f0cxfos3Ys90DRpV8Vd4j6DSVoMrWbYLqP03jEgrZGj8YQGkr+dB+noeEnMZnv6zBCErbA/2tCfBiAtpJszvLsfe6yYMC5NCIxdhfBsZ9l432XyOs9JKFFXPRMgdoptHo5lXM94xSA1Qy4AzinwOOP8TYDbyTmJ3jDEs+F2HLZeM2DtdjabeVdezp1NKD86B7rb/6p/aXmZ1mSAARH1ThKntZZjZsXxfAJ2RYd6O0o6GErEIJjNQNo6nwQyYzK51xYcvozEuSPUpJUo83uFx3jFIDVHLgDPyCQW6CvNynXk7dPjmrAHfjVHBXSFCSoEZKQVmFP/bQfBqlhlv7CvBidsmXM8xY9tlA6b9Uoy+TSRo7//fQa3V/xVgS2zp6Hq+ajHaNpBY/cjEQICbyGr8gjJv7CvBsDApOgWWPta7sQQ/XzLgbKoJ/3dUj96NXavG1rpYcUPq15TWU+Cv8ecdg9SQa31rCUnkc8C5zUBxNu8kdrXmeOkBPHJ9kdX0tdFKzOgoh1wC/J1gxIojehTqGYI9xRgbLsPSvtZN3ZczzcgtqflB7nyaCZsvGnF67n/9FB5sLcXe61L0WVuIlr5ifDfWdfoLAIDWoOcdgTgJL4UXHm77MO8YpBboRkXO7MinwO/P8k5BXNy+ZhGYb77FOwZxAs92exZTW0/lHYPUAp0mcGZdZwHalrxTEBenLc7jHYE4gSC3IExsOZF3DFJLVAw4M4kUiHqLdwri4nwLs3hHIE7gma7PQCZxzcG3hICKAWcXNhhoPoh3CuLCfPPTIaKRL0kl+gT1wcAmA3nHIPeAigFXEPU2IKa+oKR+yMwGeMrdeccgDkohUeD5Hs/zjkHuERUDrsCvJdDjUd4piAvTyunWhcS2We1mIdidbkbk7KgYcBX9XwS8mvBOQVyUr8S1LpckdaOxe2O6RbGLoGLAVcjVwMgVvFMQF6UV276BExG2F3q8ALmE9g1XQMWAK2k2AOgwiXcK4oK0jDoQEmuDmwxG76DevGOQOkLFgKuJehtQa3mnIC5Ga3Ktmy+Re+Op8MQLPV7gHYPUISoGXI3aBxjyP94piIvx1ZfwjkAcyAvdX4BWRX90uBIqBlxR+3FA2P28UxAXoi0p5B2BOIjBTQZjWOgw3jFIHaNiwFWN+BBQevJOQVyEtiiXdwTiAHyUPnip50u8Y5B6QMWAq/JsBIxYwTsFcRHa/HTeEYgDeLnny/BWevOOQeoBFQOurO0YoMNDvFMQF+BVlA0pjXIpaMNDh9OQwy6MigFXN+w9wLsp7xTEyYnA4CP34h2DcNJA1QDPd6chh10ZFQOuTuEOjPmc7l1A7plW5sY7AuFAIpLgf33/B08F9UFyZVQMCEFwN6DfEt4piJPzlSh5RyAcPN7xcXQL6MY7BqlnVAwIRZ+ngca9eKcgTkwronvVC01EwwjMbjebdwxiB1QMCIVYAoz9gkYnJLWmNfNOQOypgboB3unzDkQiGopaCKgYEBLPRsC4tYBIwjsJcUK+JiPvCMROJCIJ3uv7HnyUPryjEDuhYkBomvYFBr/GOwVxQlp9Me8IxE7md5qPLv5deMcgdkTFgBBFLADajOGdgjgZbXEB7wjEDvo26otZbWfxjkHsjIoBoYr+P6BBa94piBPRFmXzjkDqWVPPpni3z7vUT0CAqBgQKrkGmPAN3b+AVBsNSeza3OXu+HjAx3CT03gSQkTFgJD5NgPGfAGIaDcgVdOUFEAlVfGOQeqBRCTBsr7L0MSjCe8ohBM6Cghdi/uBIe/yTkGchK+cWpJc0TPdnkHvoN68YxCOqBggQI85QK/5vFMQJ6CVanhHIHVsYsuJmBw+mXcMwhkVA6TU/W8CraN5pyAOTitR8I5A6lDvoN54rvtzvGMQB0DFACklEgEPfAYE9+CdhDgwX9CAVa6irW9bLO+3HBIxvaeEigFyJ5kSmLQJ8GnGOwlxUFoT4x2B1IGmnk2xZtAaqGXqe15WZGQkFi1aVO359+7dC5FIhJycnHteN6k7VAwQa2ofYMqPdA8DYpPWqOcdgdyjAE0APhv8GbyUXlzWHxERgeTkZHh61r4z6uXLl9G/f3/4+/tDqVQiNDQUS5cuhcFgqMOkwkI3uSfl+YQCU7cA60cCuhzeaYgD0ZbQkMTOzFvhjU8Hf4oATQC3DHK5HAEB97Z+mUyGadOmoXPnzvDy8sKZM2cwe/ZsmM1mvP3223WUVFioZYDYFtgemPIzoPDgnYQ4EG1xHu8IpJbUUjVWD1qNUM/Qel1PdnY2pk2bBm9vb6jVagwdOhTx8fGWx+8+TZCZmYlJkyYhKCgIarUa7dq1w8aNGytdR2hoKGbOnIkOHTqgSZMmGDVqFCZPnoz9+/fX56a5NCoGSMUadQEe2gzI6HIyUkpbmMU7AqkFmViGFf1XoK22bb2va8aMGTh+/Di2bduGQ4cOgTGGYcOGVdiEr9Pp0KVLF2zfvh3nz5/HnDlzMHXqVBw9erTa67xy5Qr++OMP9OvXr642Q3CoGCCVa9ILmLQRkCp5JyEOwDc/HSLQuPXORC6WY0X/FejVsFe9rys+Ph7btm3DF198gT59+qBDhw749ttvkZSUhF9++cXmc4KCgrB48WJ07NgRoaGhWLBgAYYMGYLNmzdXub6IiAgolUqEhYWhT58+eP311+t4i4SDigFStdB+wIRvAYmcdxLCmcykh4fcnXcMUk0KiQIr+q9A30Z97bK+2NhYSKVS9Ojx3yXKvr6+aNmyJWJjY20+x2Qy4Y033kC7du3g4+MDNzc37Ny5Ezdu3Khyfd9//z1OnjyJ7777Dtu3b8f7779fZ9siNNSBkFRP2CBg3Dpg8zTAbOSdhnCklXsgV099BxydUqLEyv4rEREUwTtKpZYtW4aVK1dixYoVaNeuHTQaDRYtWgS9vuorV4KDgwEArVu3hslkwpw5c/D0009DIqGxE2qKWgZI9bUaXtpCQKcMBE0rufdr00n9UklV+Hjgx3YvBMLDw2E0GnHkyBHLtMzMTFy+fBmtW9u+ZXpMTAyio6MxZcoUdOjQAaGhoYiLi6vxus1mMwwGA8xmc63zCxkVA6RmWg4BJv8IUFOxYPmK6XSRI1NJVVg1cBV6Bva0+7rDwsIQHR2N2bNn48CBAzhz5gymTJmCoKAgREfbHu48LCwMf/31Fw4ePIjY2FjMnTsXqampla7n22+/xebNmxEbG4tr165h8+bNeP755zFhwgTIZLL62DSXR8UAqbmmfYDpWwGVD+8khAMtow6Ejkoj02DNoDXoFtCNW4a1a9eiS5cuGDFiBHr16gXGGHbs2FHhQXrp0qXo3LkzoqKiEBkZiYCAAIwePbrSdUilUrz77rvo3r072rdvj9deew3z58/HF198UQ9bJAwixhiNL0pqJ+0SsGE0kJ/MOwmxo7Xth2B5/kXeMchdtCotVg9cjXDfcN5RKrVz504MHToUOp0Ocjm1MjkKahkgtdegFfDwH4B3CO8kxI60BhqS2NGEeIRgw9ANDl8IpKamYuvWrQgLC6NCwMHQ1QTk3niHAA/vBDaMAdIu8E5D7MBXV8A7ArlDe7/2WDVgFbd7DdTEsGHDkJ+fj9WrV/OOQu5CpwlI3dDlAT9MB67u5p2E1LM4/5YYq6Z7FDiCyEaRWNZvGZR0hQ+5R3SagNQNpQfw0A9A5+m8k5B6pi3I4B2BAHiwxYNY0X8FFQKkTlDLAKl7MSuBv18FGF3v64oYROgc2hRGRoNP8SAWibGg0wI80u4R3lGIC6GWAVL3ej8BTPwOkLvxTkLqgQgMPora34ue1J67zB0fD/iYCgFS56gYIPWj5VBg1p+AZ2PeSUg98JVRoWdvoZ6h+G74d3a7zwARFioGSP3xbwPM2Qs0G8A7CaljvhIV7wiCEtkoEt8O+xYhniG8oxAXRcUAqV8aX2DyT0Dk84CIdjdXoRXRkK/2IIIIc9rPwUcDPoIbnXYj9Yi+nUn9E4uByOdK72mg9uWdhtQBLfUNrXfucncsj1yOBZ0WQCSiIaBJ/aJigNhP84HA3P1Ao+68k5B7pDXSlQT1qaNfR/w48kcMajKIdxQiEFQMOKDIyEgsWrSo2vPv3bsXIpEIOTk59ZapzngGATN3AD0f552E3ANfvY53BJckFokxu91srB2yFg3dGvKOQwSEigEXEBERgeTkZHh61v5yr7179yI6OhqBgYHQaDTo2LEjvv322zpMeQeJDBjyDjBxI6Dxq591kHqlpSGJ65yfyg+fDf4MCzsvhFRMI8UT+6JiwAXI5XIEBATc03nFgwcPon379vjpp59w9uxZzJw5E9OmTcNvv/1Wh0nv0moY8PhhoNWI+lsHqRfaomzeEVxKn6A++HHUj+gR2IN3FCJQVAw4gezsbEybNg3e3t5Qq9UYOnQo4uPjLY/ffZogMzMTkyZNQlBQENRqNdq1a4eNGzdWuo4XXngBb7zxBiIiItCsWTM88cQTGDJkCH7++ef63DRAowUmfgtErwYUHvW7LlJntPnpvCO4BJVUhRd6vIBVA1fBR+nDOw4RMCoGnMCMGTNw/PhxbNu2DYcOHQJjDMOGDYPBYLA5v06nQ5cuXbB9+3acP38ec+bMwdSpU3H06NEarTc3Nxc+Pnb6guo0GXjsIBDSxz7rI/fErSQfKgmNiX8vegT2wJboLZjUahJdLUC4oxNTDi4+Ph7btm1DTEwMIiIiAADffvstgoOD8csvv2DcuHHlnhMUFITFixdbfl+wYAF27tyJzZs3o3v36vXk37x5M44dO4ZPP/20bjakOryCgem/AodXA7teB4zUSc2R+Sg8kVRE71FNucnc8HTXp/Fgiwd5RyHEgooBBxcbGwupVIoePf47l+jr64uWLVsiNjbW5nNMJhPefvttbN68GUlJSdDr9SgpKYFara7WOvfs2YOZM2fi888/R5s2bepkO6pNJAJ6zSsdznj7YuDqLvuun1SbVuqGJKTyjuFU7gu6D6/0egUBmgDeUQixQsWAC1q2bBlWrlyJFStWoF27dtBoNFi0aBH0en2Vz923bx9GjhyJDz/8ENOmTbND2gr4hAJTfwbO/wT88QJQkMIvC7FJK1bwjuA0PBWeeKbrM4huHs07CiE2UZ8BBxceHg6j0YgjR45YpmVmZuLy5cto3bq1zefExMQgOjoaU6ZMQYcOHRAaGoq4uLgq17V3714MHz4c7777LubMmVNn23BP2o4F5h8Dus+h4YwdjBYS3hEcnlgkxvgW47H9ge1UCBCHRt+uDi4sLAzR0dGYPXs2Dhw4gDNnzmDKlCkICgpCdLTtL5ewsDD89ddfOHjwIGJjYzF37lykplbenLtnzx4MHz4cCxcuxNixY5GSkoKUlBRkZWXVx2bVjNIDGLYMeGQXENiBdxryL18z4x3BoXVq0Ambhm/CS71egifd8pk4OCoGnMDatWvRpUsXjBgxAr169QJjDDt27IBMZvtmMUuXLkXnzp0RFRWFyMhIBAQEYPTo0ZWuY/369SgqKsI777yDwMBAy8+YMWPqYYtqKagzMHsPMPwDGqzIAWiNtq9mETo/lR/evu9tfD30a4T7hvOOQ0i1iBhjVN47uZ07d2Lo0KHQ6XSQy+W849hHST5wYAVwaBVgLOadRpD2NO+NhaabvGM4DKlYiinhU/Boh0ehkWl4xyGkRqgDoZNLTU3F1q1bERYWJpxCAAAU7sDAl4Bus4DdbwFnvgMY3UrPnrTFeYCAdrmKiEVijAgdgcc6PIZG7o14xyGkVqhlwMl16dIF+fn5WL16NQYNEvAdzlLOA3+9TJci2lGyVyPc7y3sM40DggdgQacFaO7dnHcUQu4JFQPEtVzdA+x7F7hxiHcSl2eQyNG5sTCvl+8R0AMLOy9Ee7/2vKMQUieoGCCuKWF/aVFwfT/vJC6td4s2yDPk845hN+392mN+x/no1bAX7yiE1CkqBohru3EY2PcenT6oJ9Fte+FaYRLvGPXuvqD78HDbh9EtoBvvKITUCyoGiDAknQD2LQPifuedxKXM6jgIR3OrHtDKGUlEEkSFROHhtg+jpU9L3nEIqVd0NQERhqAuwEObgPTLwJFPgTObAEMh71ROz1fsepcTKCVKjG4+GtPbTKerA4hgUMsAESZdLnDqG+Do50B2Au80Tuu9TsOxIecc7xh1IsgtCONajMMDYQ/AR2mnW3cT4iCoZYAIk9Kz9O6IPR4D4v8EjnwCXNsLgGrjmtCanHtsB4lIgj6N+mBCywno3bA3RCIR70iEcEHFABE2sRhoOaT0Jz0OOP0NcHYzkJ/MO5lT0BpKeEeoFT+VH8aEjcGDLR6k2wkTAjpNQEh5ZhNwbU9pv4LY32i440ocbNoDc+EchZNCokDfRn0xPHQ4+jXqB6mY/hYipAwVA4RURpcHXPwFOL3x34GM6ONyp8v+rfCguoh3jApJRBJ0D+iO4aHDMbDxQLjJ3XhHIsQhUTFASHVlXwcubgNitwG3joMKAyDTzQ+RfireMcppp22H4aHDERUSBa1KyzsOIQ6PigFCaiM3Cbj0G3BpO5AYA5iNvBNxYRaJ0blpE5iYiWsOhUSB7gHd0a9RP/QL7kf9AAipISoGCLlXxTnAlb+By78DCfuAwnTeieyqf6uOyCjJsvt6/VR+6NuoL/o16oeeDXtCJXW8FgpCnAUVA4TUJcaAtIvAtX1Awj+lrQYlebxT1atx7fvgUn5iva9HI9OgY4OO6OrfFb0Ce6G1b2u6FJCQOkLdaQmpSyIR4N+m9KfX46VXJiSdLG0xSPin9P9617qxj6+kfv4id5e7o3ODzujq3xVdA7oi3CccErGkXtZFiNBRMUBIfRJLgOBupT99FwNmM5ARB9w+WXq/hKSTQOp5wKTnnbTWtKJ7/xqRi+UI8w5DK59WaO3bGu392qOFdwuIReI6SEgIqQoVA4TYk1gMNGhV+tPxodJpRn1pQXD7JJB6AciILy0YClL5Zq0mLatZU727zB3NvJoh3Dcc4T7haO3bGqFeoZCJZfWUkBBSFSoGCOFNKgeCOpf+3EmX+19hkH659P/ZCUDebUCXwyWqLVpj+Ssp3GRuaOzRGI3dG6OxR2M08WiCxu6l/3orvTmkJIRUhjoQEuKMDMWlRUF+cum/Zf/PTyktIkrySzsuluSX/ugL7mFlIkCuAWRqQK4G5G6A2hfQ+AEaLa76h+Gsuy8aqBvAT+2HBqoG8FJ61dWWEkLsgIoBQoTAbPqvMDAbSq96YOb//sUdv4sl/x74Nf8WAXTJHiGujooBQgghROCoqy4hhBAicFQMEEIIIQJHxQAhhBAicFQMEEIIIQJHxQAhhBAicFQMEEIIIQJHxQAhhBAicFQMEEIIIQJHxQAhhBAicFQMEEIIIQJHxQAhhBAicFQMEEIIIQJHxQAhhBAicFQMEEIIIQJHxQAhhBAicFQMEEIIIQJHxQAhhBAicFQMEEIIIQJHxQAhhBAicFQMEEIIIQJHxQAhhBAicFQMEEIIIQJHxQAhhBAicFQMEEIIIQJHxQAhhBAicP8PZxC/7ouElxgAAAAASUVORK5CYII=\n"
          },
          "metadata": {}
        }
      ]
    },
    {
      "cell_type": "code",
      "source": [
        "lista_ml = []\n",
        "lista_ma = []\n",
        "for i in range(len(lista_media)):\n",
        "  lista_ml.append(lista_media[i][0])\n",
        "  lista_ma.append(lista_media[i][1])\n",
        "cores = ['red', 'blue', 'green', 'orange']\n",
        "plt.bar(lista_ml, lista_ma, color = cores)\n",
        "plt.suptitle('Média da avaliação dos clientes', fontsize = 15)\n",
        "plt.ylim(3.9, 4.2)\n",
        "plt.show()\n"
      ],
      "metadata": {
        "colab": {
          "base_uri": "https://localhost:8080/",
          "height": 478
        },
        "id": "DSTt8tXyIAzT",
        "outputId": "7813c15b-5bc3-4667-9604-c059c8cbbebc"
      },
      "execution_count": 100,
      "outputs": [
        {
          "output_type": "display_data",
          "data": {
            "text/plain": [
              "<Figure size 640x480 with 1 Axes>"
            ],
            "image/png": "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\n"
          },
          "metadata": {}
        }
      ]
    },
    {
      "cell_type": "code",
      "source": [
        "lista_mfl = []\n",
        "lista_mfre = []\n",
        "for i in range(len(lista_mediaf)):\n",
        "  lista_mfl.append(lista_mediaf[i][0])\n",
        "  lista_mfre.append(lista_mediaf[i][1])\n",
        "cores = ['red', 'blue', 'green', 'orange']\n",
        "plt.bar(lista_mfl, lista_mfre, color = cores)\n",
        "plt.suptitle('Média do preço do frete', fontsize = 15)\n",
        "plt.title('Em reais', fontsize = 10)\n",
        "plt.ylim(30, 35)\n",
        "plt.show()"
      ],
      "metadata": {
        "colab": {
          "base_uri": "https://localhost:8080/",
          "height": 478
        },
        "id": "e6SAfDHXNpjV",
        "outputId": "b6eb3494-0576-43b3-a732-0b3442f0c4e3"
      },
      "execution_count": 108,
      "outputs": [
        {
          "output_type": "display_data",
          "data": {
            "text/plain": [
              "<Figure size 640x480 with 1 Axes>"
            ],
            "image/png": "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\n"
          },
          "metadata": {}
        }
      ]
    },
    {
      "cell_type": "markdown",
      "source": [
        "# Relatório"
      ],
      "metadata": {
        "id": "vlo-x94WRtKE"
      }
    },
    {
      "cell_type": "markdown",
      "source": [
        "Baseado nos achados de faturamento, o faturamento global foi de R\$5871490.79 a Loja 1 faturou cerca de 1,2% do faturamento total a mais do que a loja 4, que é a que menos fatura, trazendo uma diferença de R$150011.54. Também foi verificado que a avaliação da loja 4 é a segunda pior entre todas as lojas, ficando a frente apenas da loja 1, que apesar disso é a que mais fatura. Sobre o frete, mesmo se a empresa absorva o custo deste, não mudará de forma significativa o quanto cada loja contribui percentualmente para o faturamento global. Logo, devido a avaliação relativamente ruim e faturamento relativamente menor que as outras lojas, a loja 4 é a que deve ser vendida."
      ],
      "metadata": {
        "id": "A_Jwg2r4Rx-J"
      }
    }
  ]
}
